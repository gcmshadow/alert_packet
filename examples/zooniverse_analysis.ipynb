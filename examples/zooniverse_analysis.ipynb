{
 "cells": [
  {
   "cell_type": "markdown",
   "metadata": {},
   "source": [
    "## Zooniverse Analysis"
   ]
  },
  {
   "cell_type": "code",
   "execution_count": 77,
   "metadata": {},
   "outputs": [],
   "source": [
    "import json\n",
    "import pandas as pd\n",
    "import matplotlib.pyplot as plt\n",
    "import sqlite3\n",
    "import numpy as np\n",
    "import seaborn as sns"
   ]
  },
  {
   "cell_type": "code",
   "execution_count": 68,
   "metadata": {},
   "outputs": [],
   "source": [
    "dfzoo = pd.read_csv('alert-production-zoo-classifications.csv')"
   ]
  },
  {
   "cell_type": "code",
   "execution_count": 69,
   "metadata": {},
   "outputs": [
    {
     "data": {
      "text/plain": [
       "386"
      ]
     },
     "execution_count": 69,
     "metadata": {},
     "output_type": "execute_result"
    }
   ],
   "source": [
    "len(dfzoo)"
   ]
  },
  {
   "cell_type": "code",
   "execution_count": 70,
   "metadata": {},
   "outputs": [
    {
     "data": {
      "text/html": [
       "<div>\n",
       "<style scoped>\n",
       "    .dataframe tbody tr th:only-of-type {\n",
       "        vertical-align: middle;\n",
       "    }\n",
       "\n",
       "    .dataframe tbody tr th {\n",
       "        vertical-align: top;\n",
       "    }\n",
       "\n",
       "    .dataframe thead th {\n",
       "        text-align: right;\n",
       "    }\n",
       "</style>\n",
       "<table border=\"1\" class=\"dataframe\">\n",
       "  <thead>\n",
       "    <tr style=\"text-align: right;\">\n",
       "      <th></th>\n",
       "      <th>classification_id</th>\n",
       "      <th>user_name</th>\n",
       "      <th>user_id</th>\n",
       "      <th>user_ip</th>\n",
       "      <th>workflow_id</th>\n",
       "      <th>workflow_name</th>\n",
       "      <th>workflow_version</th>\n",
       "      <th>created_at</th>\n",
       "      <th>gold_standard</th>\n",
       "      <th>expert</th>\n",
       "      <th>metadata</th>\n",
       "      <th>annotations</th>\n",
       "      <th>subject_data</th>\n",
       "      <th>subject_ids</th>\n",
       "    </tr>\n",
       "  </thead>\n",
       "  <tbody>\n",
       "    <tr>\n",
       "      <th>0</th>\n",
       "      <td>207552876</td>\n",
       "      <td>ebellm</td>\n",
       "      <td>1649740.0</td>\n",
       "      <td>bcb090b573bb93a473ab</td>\n",
       "      <td>13338</td>\n",
       "      <td>Scan cutouts</td>\n",
       "      <td>14.25</td>\n",
       "      <td>2020-03-07 01:13:05 UTC</td>\n",
       "      <td>NaN</td>\n",
       "      <td>NaN</td>\n",
       "      <td>{\"source\":\"api\",\"session\":\"ef4df560cf0cb8504df...</td>\n",
       "      <td>[{\"task\":\"T0\",\"task_label\":\"How would you desc...</td>\n",
       "      <td>{\"40938231\":{\"retired\":null,\"diaSourceId\":1764...</td>\n",
       "      <td>40938231</td>\n",
       "    </tr>\n",
       "    <tr>\n",
       "      <th>1</th>\n",
       "      <td>207552908</td>\n",
       "      <td>ebellm</td>\n",
       "      <td>1649740.0</td>\n",
       "      <td>bcb090b573bb93a473ab</td>\n",
       "      <td>13338</td>\n",
       "      <td>Scan cutouts</td>\n",
       "      <td>14.25</td>\n",
       "      <td>2020-03-07 01:13:13 UTC</td>\n",
       "      <td>NaN</td>\n",
       "      <td>NaN</td>\n",
       "      <td>{\"source\":\"api\",\"session\":\"ef4df560cf0cb8504df...</td>\n",
       "      <td>[{\"task\":\"T0\",\"task_label\":\"How would you desc...</td>\n",
       "      <td>{\"40938233\":{\"retired\":null,\"diaSourceId\":1764...</td>\n",
       "      <td>40938233</td>\n",
       "    </tr>\n",
       "    <tr>\n",
       "      <th>2</th>\n",
       "      <td>207553020</td>\n",
       "      <td>ebellm</td>\n",
       "      <td>1649740.0</td>\n",
       "      <td>bcb090b573bb93a473ab</td>\n",
       "      <td>13338</td>\n",
       "      <td>Scan cutouts</td>\n",
       "      <td>14.25</td>\n",
       "      <td>2020-03-07 01:13:44 UTC</td>\n",
       "      <td>NaN</td>\n",
       "      <td>NaN</td>\n",
       "      <td>{\"source\":\"api\",\"session\":\"ef4df560cf0cb8504df...</td>\n",
       "      <td>[{\"task\":\"T0\",\"task_label\":\"How would you desc...</td>\n",
       "      <td>{\"40938229\":{\"retired\":null,\"diaSourceId\":1764...</td>\n",
       "      <td>40938229</td>\n",
       "    </tr>\n",
       "    <tr>\n",
       "      <th>3</th>\n",
       "      <td>207553077</td>\n",
       "      <td>ebellm</td>\n",
       "      <td>1649740.0</td>\n",
       "      <td>bcb090b573bb93a473ab</td>\n",
       "      <td>13338</td>\n",
       "      <td>Scan cutouts</td>\n",
       "      <td>14.25</td>\n",
       "      <td>2020-03-07 01:14:00 UTC</td>\n",
       "      <td>NaN</td>\n",
       "      <td>NaN</td>\n",
       "      <td>{\"source\":\"api\",\"session\":\"ef4df560cf0cb8504df...</td>\n",
       "      <td>[{\"task\":\"T0\",\"task_label\":\"How would you desc...</td>\n",
       "      <td>{\"40938219\":{\"retired\":null,\"diaSourceId\":1764...</td>\n",
       "      <td>40938219</td>\n",
       "    </tr>\n",
       "    <tr>\n",
       "      <th>4</th>\n",
       "      <td>207553107</td>\n",
       "      <td>ebellm</td>\n",
       "      <td>1649740.0</td>\n",
       "      <td>bcb090b573bb93a473ab</td>\n",
       "      <td>13338</td>\n",
       "      <td>Scan cutouts</td>\n",
       "      <td>14.25</td>\n",
       "      <td>2020-03-07 01:14:09 UTC</td>\n",
       "      <td>NaN</td>\n",
       "      <td>NaN</td>\n",
       "      <td>{\"source\":\"api\",\"session\":\"ef4df560cf0cb8504df...</td>\n",
       "      <td>[{\"task\":\"T0\",\"task_label\":\"How would you desc...</td>\n",
       "      <td>{\"40938221\":{\"retired\":null,\"diaSourceId\":1764...</td>\n",
       "      <td>40938221</td>\n",
       "    </tr>\n",
       "  </tbody>\n",
       "</table>\n",
       "</div>"
      ],
      "text/plain": [
       "   classification_id user_name    user_id               user_ip  workflow_id  \\\n",
       "0          207552876    ebellm  1649740.0  bcb090b573bb93a473ab        13338   \n",
       "1          207552908    ebellm  1649740.0  bcb090b573bb93a473ab        13338   \n",
       "2          207553020    ebellm  1649740.0  bcb090b573bb93a473ab        13338   \n",
       "3          207553077    ebellm  1649740.0  bcb090b573bb93a473ab        13338   \n",
       "4          207553107    ebellm  1649740.0  bcb090b573bb93a473ab        13338   \n",
       "\n",
       "  workflow_name  workflow_version               created_at gold_standard  \\\n",
       "0  Scan cutouts             14.25  2020-03-07 01:13:05 UTC           NaN   \n",
       "1  Scan cutouts             14.25  2020-03-07 01:13:13 UTC           NaN   \n",
       "2  Scan cutouts             14.25  2020-03-07 01:13:44 UTC           NaN   \n",
       "3  Scan cutouts             14.25  2020-03-07 01:14:00 UTC           NaN   \n",
       "4  Scan cutouts             14.25  2020-03-07 01:14:09 UTC           NaN   \n",
       "\n",
       "  expert                                           metadata  \\\n",
       "0    NaN  {\"source\":\"api\",\"session\":\"ef4df560cf0cb8504df...   \n",
       "1    NaN  {\"source\":\"api\",\"session\":\"ef4df560cf0cb8504df...   \n",
       "2    NaN  {\"source\":\"api\",\"session\":\"ef4df560cf0cb8504df...   \n",
       "3    NaN  {\"source\":\"api\",\"session\":\"ef4df560cf0cb8504df...   \n",
       "4    NaN  {\"source\":\"api\",\"session\":\"ef4df560cf0cb8504df...   \n",
       "\n",
       "                                         annotations  \\\n",
       "0  [{\"task\":\"T0\",\"task_label\":\"How would you desc...   \n",
       "1  [{\"task\":\"T0\",\"task_label\":\"How would you desc...   \n",
       "2  [{\"task\":\"T0\",\"task_label\":\"How would you desc...   \n",
       "3  [{\"task\":\"T0\",\"task_label\":\"How would you desc...   \n",
       "4  [{\"task\":\"T0\",\"task_label\":\"How would you desc...   \n",
       "\n",
       "                                        subject_data  subject_ids  \n",
       "0  {\"40938231\":{\"retired\":null,\"diaSourceId\":1764...     40938231  \n",
       "1  {\"40938233\":{\"retired\":null,\"diaSourceId\":1764...     40938233  \n",
       "2  {\"40938229\":{\"retired\":null,\"diaSourceId\":1764...     40938229  \n",
       "3  {\"40938219\":{\"retired\":null,\"diaSourceId\":1764...     40938219  \n",
       "4  {\"40938221\":{\"retired\":null,\"diaSourceId\":1764...     40938221  "
      ]
     },
     "execution_count": 70,
     "metadata": {},
     "output_type": "execute_result"
    }
   ],
   "source": [
    "dfzoo.head()"
   ]
  },
  {
   "cell_type": "code",
   "execution_count": 71,
   "metadata": {},
   "outputs": [],
   "source": [
    "def get_classification(df):\n",
    "    return dfzoo['annotations'].apply(json.loads).apply(lambda x: x[0]['value'])\n",
    "\n",
    "def get_text_comment(df):\n",
    "    return dfzoo['annotations'].apply(json.loads).apply(lambda x: x[1]['value'] if (x[0]['value'] == 'Other') else None)\n",
    "\n",
    "def get_diaSourceId(df):\n",
    "    return dfzoo['subject_data'].apply(json.loads).apply(lambda x: list(x.values())[0]['diaSourceId'])"
   ]
  },
  {
   "cell_type": "code",
   "execution_count": 72,
   "metadata": {},
   "outputs": [],
   "source": [
    "dfzoo['classification'] = get_classification(dfzoo)\n",
    "dfzoo['comment'] = get_text_comment(dfzoo)\n",
    "dfzoo['diaSourceId'] = get_diaSourceId(dfzoo)"
   ]
  },
  {
   "cell_type": "markdown",
   "metadata": {},
   "source": [
    "Foolishly we mixed HSC and DECam data, and for some reason it doesn't seem like the subject sets are made distinct.  I think I should have used some additional keys, not just the diaSourceID.\n",
    "\n",
    "Thankfully there's no overlap in diaSourceId"
   ]
  },
  {
   "cell_type": "code",
   "execution_count": 63,
   "metadata": {},
   "outputs": [],
   "source": [
    "REPO = '/project/mrawls/hits2015/rerun/decorr_2020_03'\n",
    "connection = sqlite3.connect(f'{REPO}/association.db')\n",
    "diaSources = pd.read_sql_query('select * from DiaSource', connection)"
   ]
  },
  {
   "cell_type": "code",
   "execution_count": 62,
   "metadata": {},
   "outputs": [],
   "source": [
    "#REPO = '/project/mrawls/cosmos/rerun/ap_pipe-g-1'\n",
    "#connection = sqlite3.connect(f'{REPO}/association.db')\n",
    "#hscDiaSources = pd.read_sql_query('select * from DiaSource', connection)\n",
    "#np.intersect1d(diaSources.diaSourceId.values,hscDiaSources.diaSourceId.values)"
   ]
  },
  {
   "cell_type": "code",
   "execution_count": 73,
   "metadata": {},
   "outputs": [],
   "source": [
    "diaSources = pd.merge(diaSources,dfzoo[['classification','comment','diaSourceId']],on='diaSourceId',how='inner')"
   ]
  },
  {
   "cell_type": "code",
   "execution_count": 74,
   "metadata": {},
   "outputs": [
    {
     "data": {
      "text/plain": [
       "214"
      ]
     },
     "execution_count": 74,
     "metadata": {},
     "output_type": "execute_result"
    }
   ],
   "source": [
    "len(diaSources)"
   ]
  },
  {
   "cell_type": "code",
   "execution_count": 79,
   "metadata": {},
   "outputs": [
    {
     "ename": "TypeError",
     "evalue": "unsupported operand type(s) for /: 'str' and 'int'",
     "output_type": "error",
     "traceback": [
      "\u001b[0;31m---------------------------------------------------------------------------\u001b[0m",
      "\u001b[0;31mTypeError\u001b[0m                                 Traceback (most recent call last)",
      "\u001b[0;32m<ipython-input-79-2c4de713d773>\u001b[0m in \u001b[0;36m<module>\u001b[0;34m\u001b[0m\n\u001b[0;32m----> 1\u001b[0;31m \u001b[0msns\u001b[0m\u001b[0;34m.\u001b[0m\u001b[0mbarplot\u001b[0m\u001b[0;34m(\u001b[0m\u001b[0mdata\u001b[0m\u001b[0;34m=\u001b[0m\u001b[0mdiaSources\u001b[0m\u001b[0;34m,\u001b[0m\u001b[0mx\u001b[0m\u001b[0;34m=\u001b[0m\u001b[0;34m'classification'\u001b[0m\u001b[0;34m)\u001b[0m\u001b[0;34m\u001b[0m\u001b[0;34m\u001b[0m\u001b[0m\n\u001b[0m",
      "\u001b[0;32m~/.local/lib/python3.7/site-packages/seaborn/categorical.py\u001b[0m in \u001b[0;36mbarplot\u001b[0;34m(x, y, hue, data, order, hue_order, estimator, ci, n_boot, units, seed, orient, color, palette, saturation, errcolor, errwidth, capsize, dodge, ax, **kwargs)\u001b[0m\n\u001b[1;32m   3148\u001b[0m                           \u001b[0mestimator\u001b[0m\u001b[0;34m,\u001b[0m \u001b[0mci\u001b[0m\u001b[0;34m,\u001b[0m \u001b[0mn_boot\u001b[0m\u001b[0;34m,\u001b[0m \u001b[0munits\u001b[0m\u001b[0;34m,\u001b[0m \u001b[0mseed\u001b[0m\u001b[0;34m,\u001b[0m\u001b[0;34m\u001b[0m\u001b[0;34m\u001b[0m\u001b[0m\n\u001b[1;32m   3149\u001b[0m                           \u001b[0morient\u001b[0m\u001b[0;34m,\u001b[0m \u001b[0mcolor\u001b[0m\u001b[0;34m,\u001b[0m \u001b[0mpalette\u001b[0m\u001b[0;34m,\u001b[0m \u001b[0msaturation\u001b[0m\u001b[0;34m,\u001b[0m\u001b[0;34m\u001b[0m\u001b[0;34m\u001b[0m\u001b[0m\n\u001b[0;32m-> 3150\u001b[0;31m                           errcolor, errwidth, capsize, dodge)\n\u001b[0m\u001b[1;32m   3151\u001b[0m \u001b[0;34m\u001b[0m\u001b[0m\n\u001b[1;32m   3152\u001b[0m     \u001b[0;32mif\u001b[0m \u001b[0max\u001b[0m \u001b[0;32mis\u001b[0m \u001b[0;32mNone\u001b[0m\u001b[0;34m:\u001b[0m\u001b[0;34m\u001b[0m\u001b[0;34m\u001b[0m\u001b[0m\n",
      "\u001b[0;32m~/.local/lib/python3.7/site-packages/seaborn/categorical.py\u001b[0m in \u001b[0;36m__init__\u001b[0;34m(self, x, y, hue, data, order, hue_order, estimator, ci, n_boot, units, seed, orient, color, palette, saturation, errcolor, errwidth, capsize, dodge)\u001b[0m\n\u001b[1;32m   1615\u001b[0m                                  order, hue_order, units)\n\u001b[1;32m   1616\u001b[0m         \u001b[0mself\u001b[0m\u001b[0;34m.\u001b[0m\u001b[0mestablish_colors\u001b[0m\u001b[0;34m(\u001b[0m\u001b[0mcolor\u001b[0m\u001b[0;34m,\u001b[0m \u001b[0mpalette\u001b[0m\u001b[0;34m,\u001b[0m \u001b[0msaturation\u001b[0m\u001b[0;34m)\u001b[0m\u001b[0;34m\u001b[0m\u001b[0;34m\u001b[0m\u001b[0m\n\u001b[0;32m-> 1617\u001b[0;31m         \u001b[0mself\u001b[0m\u001b[0;34m.\u001b[0m\u001b[0mestimate_statistic\u001b[0m\u001b[0;34m(\u001b[0m\u001b[0mestimator\u001b[0m\u001b[0;34m,\u001b[0m \u001b[0mci\u001b[0m\u001b[0;34m,\u001b[0m \u001b[0mn_boot\u001b[0m\u001b[0;34m,\u001b[0m \u001b[0mseed\u001b[0m\u001b[0;34m)\u001b[0m\u001b[0;34m\u001b[0m\u001b[0;34m\u001b[0m\u001b[0m\n\u001b[0m\u001b[1;32m   1618\u001b[0m \u001b[0;34m\u001b[0m\u001b[0m\n\u001b[1;32m   1619\u001b[0m         \u001b[0mself\u001b[0m\u001b[0;34m.\u001b[0m\u001b[0mdodge\u001b[0m \u001b[0;34m=\u001b[0m \u001b[0mdodge\u001b[0m\u001b[0;34m\u001b[0m\u001b[0;34m\u001b[0m\u001b[0m\n",
      "\u001b[0;32m~/.local/lib/python3.7/site-packages/seaborn/categorical.py\u001b[0m in \u001b[0;36mestimate_statistic\u001b[0;34m(self, estimator, ci, n_boot, seed)\u001b[0m\n\u001b[1;32m   1497\u001b[0m                     \u001b[0mstatistic\u001b[0m\u001b[0;34m.\u001b[0m\u001b[0mappend\u001b[0m\u001b[0;34m(\u001b[0m\u001b[0mnp\u001b[0m\u001b[0;34m.\u001b[0m\u001b[0mnan\u001b[0m\u001b[0;34m)\u001b[0m\u001b[0;34m\u001b[0m\u001b[0;34m\u001b[0m\u001b[0m\n\u001b[1;32m   1498\u001b[0m                 \u001b[0;32melse\u001b[0m\u001b[0;34m:\u001b[0m\u001b[0;34m\u001b[0m\u001b[0;34m\u001b[0m\u001b[0m\n\u001b[0;32m-> 1499\u001b[0;31m                     \u001b[0mstatistic\u001b[0m\u001b[0;34m.\u001b[0m\u001b[0mappend\u001b[0m\u001b[0;34m(\u001b[0m\u001b[0mestimator\u001b[0m\u001b[0;34m(\u001b[0m\u001b[0mstat_data\u001b[0m\u001b[0;34m)\u001b[0m\u001b[0;34m)\u001b[0m\u001b[0;34m\u001b[0m\u001b[0;34m\u001b[0m\u001b[0m\n\u001b[0m\u001b[1;32m   1500\u001b[0m \u001b[0;34m\u001b[0m\u001b[0m\n\u001b[1;32m   1501\u001b[0m                 \u001b[0;31m# Get a confidence interval for this estimate\u001b[0m\u001b[0;34m\u001b[0m\u001b[0;34m\u001b[0m\u001b[0;34m\u001b[0m\u001b[0m\n",
      "\u001b[0;32m<__array_function__ internals>\u001b[0m in \u001b[0;36mmean\u001b[0;34m(*args, **kwargs)\u001b[0m\n",
      "\u001b[0;32m/opt/lsst/software/stack/python/miniconda3-4.7.12/envs/lsst-scipipe-984c9f7/lib/python3.7/site-packages/numpy/core/fromnumeric.py\u001b[0m in \u001b[0;36mmean\u001b[0;34m(a, axis, dtype, out, keepdims)\u001b[0m\n\u001b[1;32m   3333\u001b[0m \u001b[0;34m\u001b[0m\u001b[0m\n\u001b[1;32m   3334\u001b[0m     return _methods._mean(a, axis=axis, dtype=dtype,\n\u001b[0;32m-> 3335\u001b[0;31m                           out=out, **kwargs)\n\u001b[0m\u001b[1;32m   3336\u001b[0m \u001b[0;34m\u001b[0m\u001b[0m\n\u001b[1;32m   3337\u001b[0m \u001b[0;34m\u001b[0m\u001b[0m\n",
      "\u001b[0;32m/opt/lsst/software/stack/python/miniconda3-4.7.12/envs/lsst-scipipe-984c9f7/lib/python3.7/site-packages/numpy/core/_methods.py\u001b[0m in \u001b[0;36m_mean\u001b[0;34m(a, axis, dtype, out, keepdims)\u001b[0m\n\u001b[1;32m    161\u001b[0m             \u001b[0mret\u001b[0m \u001b[0;34m=\u001b[0m \u001b[0mret\u001b[0m\u001b[0;34m.\u001b[0m\u001b[0mdtype\u001b[0m\u001b[0;34m.\u001b[0m\u001b[0mtype\u001b[0m\u001b[0;34m(\u001b[0m\u001b[0mret\u001b[0m \u001b[0;34m/\u001b[0m \u001b[0mrcount\u001b[0m\u001b[0;34m)\u001b[0m\u001b[0;34m\u001b[0m\u001b[0;34m\u001b[0m\u001b[0m\n\u001b[1;32m    162\u001b[0m     \u001b[0;32melse\u001b[0m\u001b[0;34m:\u001b[0m\u001b[0;34m\u001b[0m\u001b[0;34m\u001b[0m\u001b[0m\n\u001b[0;32m--> 163\u001b[0;31m         \u001b[0mret\u001b[0m \u001b[0;34m=\u001b[0m \u001b[0mret\u001b[0m \u001b[0;34m/\u001b[0m \u001b[0mrcount\u001b[0m\u001b[0;34m\u001b[0m\u001b[0;34m\u001b[0m\u001b[0m\n\u001b[0m\u001b[1;32m    164\u001b[0m \u001b[0;34m\u001b[0m\u001b[0m\n\u001b[1;32m    165\u001b[0m     \u001b[0;32mreturn\u001b[0m \u001b[0mret\u001b[0m\u001b[0;34m\u001b[0m\u001b[0;34m\u001b[0m\u001b[0m\n",
      "\u001b[0;31mTypeError\u001b[0m: unsupported operand type(s) for /: 'str' and 'int'"
     ]
    }
   ],
   "source": [
    "sns.barplot(data=diaSources,x='classification')"
   ]
  },
  {
   "cell_type": "code",
   "execution_count": null,
   "metadata": {},
   "outputs": [],
   "source": []
  }
 ],
 "metadata": {
  "kernelspec": {
   "display_name": "LSST",
   "language": "python",
   "name": "lsst"
  },
  "language_info": {
   "codemirror_mode": {
    "name": "ipython",
    "version": 3
   },
   "file_extension": ".py",
   "mimetype": "text/x-python",
   "name": "python",
   "nbconvert_exporter": "python",
   "pygments_lexer": "ipython3",
   "version": "3.7.6"
  }
 },
 "nbformat": 4,
 "nbformat_minor": 4
}

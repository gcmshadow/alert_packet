{
 "cells": [
  {
   "cell_type": "markdown",
   "metadata": {},
   "source": [
    "## Zooniverse Analysis"
   ]
  },
  {
   "cell_type": "code",
   "execution_count": 25,
   "metadata": {},
   "outputs": [],
   "source": [
    "import json\n",
    "import pandas as pd\n",
    "import matplotlib.pyplot as plt\n",
    "import sqlite3\n",
    "import numpy as np\n",
    "import seaborn as sns\n",
    "from lsst.ap.association import UnpackApdbFlags, MapDiaSourceConfig\n"
   ]
  },
  {
   "cell_type": "code",
   "execution_count": 52,
   "metadata": {},
   "outputs": [],
   "source": [
    "dfzoo = pd.read_csv('alert-production-zoo-classifications.csv')"
   ]
  },
  {
   "cell_type": "code",
   "execution_count": 53,
   "metadata": {},
   "outputs": [
    {
     "data": {
      "text/plain": [
       "386"
      ]
     },
     "execution_count": 53,
     "metadata": {},
     "output_type": "execute_result"
    }
   ],
   "source": [
    "len(dfzoo)"
   ]
  },
  {
   "cell_type": "code",
   "execution_count": 54,
   "metadata": {},
   "outputs": [
    {
     "data": {
      "text/html": [
       "<div>\n",
       "<style scoped>\n",
       "    .dataframe tbody tr th:only-of-type {\n",
       "        vertical-align: middle;\n",
       "    }\n",
       "\n",
       "    .dataframe tbody tr th {\n",
       "        vertical-align: top;\n",
       "    }\n",
       "\n",
       "    .dataframe thead th {\n",
       "        text-align: right;\n",
       "    }\n",
       "</style>\n",
       "<table border=\"1\" class=\"dataframe\">\n",
       "  <thead>\n",
       "    <tr style=\"text-align: right;\">\n",
       "      <th></th>\n",
       "      <th>classification_id</th>\n",
       "      <th>user_name</th>\n",
       "      <th>user_id</th>\n",
       "      <th>user_ip</th>\n",
       "      <th>workflow_id</th>\n",
       "      <th>workflow_name</th>\n",
       "      <th>workflow_version</th>\n",
       "      <th>created_at</th>\n",
       "      <th>gold_standard</th>\n",
       "      <th>expert</th>\n",
       "      <th>metadata</th>\n",
       "      <th>annotations</th>\n",
       "      <th>subject_data</th>\n",
       "      <th>subject_ids</th>\n",
       "    </tr>\n",
       "  </thead>\n",
       "  <tbody>\n",
       "    <tr>\n",
       "      <th>0</th>\n",
       "      <td>207552876</td>\n",
       "      <td>ebellm</td>\n",
       "      <td>1649740.0</td>\n",
       "      <td>bcb090b573bb93a473ab</td>\n",
       "      <td>13338</td>\n",
       "      <td>Scan cutouts</td>\n",
       "      <td>14.25</td>\n",
       "      <td>2020-03-07 01:13:05 UTC</td>\n",
       "      <td>NaN</td>\n",
       "      <td>NaN</td>\n",
       "      <td>{\"source\":\"api\",\"session\":\"ef4df560cf0cb8504df...</td>\n",
       "      <td>[{\"task\":\"T0\",\"task_label\":\"How would you desc...</td>\n",
       "      <td>{\"40938231\":{\"retired\":null,\"diaSourceId\":1764...</td>\n",
       "      <td>40938231</td>\n",
       "    </tr>\n",
       "    <tr>\n",
       "      <th>1</th>\n",
       "      <td>207552908</td>\n",
       "      <td>ebellm</td>\n",
       "      <td>1649740.0</td>\n",
       "      <td>bcb090b573bb93a473ab</td>\n",
       "      <td>13338</td>\n",
       "      <td>Scan cutouts</td>\n",
       "      <td>14.25</td>\n",
       "      <td>2020-03-07 01:13:13 UTC</td>\n",
       "      <td>NaN</td>\n",
       "      <td>NaN</td>\n",
       "      <td>{\"source\":\"api\",\"session\":\"ef4df560cf0cb8504df...</td>\n",
       "      <td>[{\"task\":\"T0\",\"task_label\":\"How would you desc...</td>\n",
       "      <td>{\"40938233\":{\"retired\":null,\"diaSourceId\":1764...</td>\n",
       "      <td>40938233</td>\n",
       "    </tr>\n",
       "    <tr>\n",
       "      <th>2</th>\n",
       "      <td>207553020</td>\n",
       "      <td>ebellm</td>\n",
       "      <td>1649740.0</td>\n",
       "      <td>bcb090b573bb93a473ab</td>\n",
       "      <td>13338</td>\n",
       "      <td>Scan cutouts</td>\n",
       "      <td>14.25</td>\n",
       "      <td>2020-03-07 01:13:44 UTC</td>\n",
       "      <td>NaN</td>\n",
       "      <td>NaN</td>\n",
       "      <td>{\"source\":\"api\",\"session\":\"ef4df560cf0cb8504df...</td>\n",
       "      <td>[{\"task\":\"T0\",\"task_label\":\"How would you desc...</td>\n",
       "      <td>{\"40938229\":{\"retired\":null,\"diaSourceId\":1764...</td>\n",
       "      <td>40938229</td>\n",
       "    </tr>\n",
       "    <tr>\n",
       "      <th>3</th>\n",
       "      <td>207553077</td>\n",
       "      <td>ebellm</td>\n",
       "      <td>1649740.0</td>\n",
       "      <td>bcb090b573bb93a473ab</td>\n",
       "      <td>13338</td>\n",
       "      <td>Scan cutouts</td>\n",
       "      <td>14.25</td>\n",
       "      <td>2020-03-07 01:14:00 UTC</td>\n",
       "      <td>NaN</td>\n",
       "      <td>NaN</td>\n",
       "      <td>{\"source\":\"api\",\"session\":\"ef4df560cf0cb8504df...</td>\n",
       "      <td>[{\"task\":\"T0\",\"task_label\":\"How would you desc...</td>\n",
       "      <td>{\"40938219\":{\"retired\":null,\"diaSourceId\":1764...</td>\n",
       "      <td>40938219</td>\n",
       "    </tr>\n",
       "    <tr>\n",
       "      <th>4</th>\n",
       "      <td>207553107</td>\n",
       "      <td>ebellm</td>\n",
       "      <td>1649740.0</td>\n",
       "      <td>bcb090b573bb93a473ab</td>\n",
       "      <td>13338</td>\n",
       "      <td>Scan cutouts</td>\n",
       "      <td>14.25</td>\n",
       "      <td>2020-03-07 01:14:09 UTC</td>\n",
       "      <td>NaN</td>\n",
       "      <td>NaN</td>\n",
       "      <td>{\"source\":\"api\",\"session\":\"ef4df560cf0cb8504df...</td>\n",
       "      <td>[{\"task\":\"T0\",\"task_label\":\"How would you desc...</td>\n",
       "      <td>{\"40938221\":{\"retired\":null,\"diaSourceId\":1764...</td>\n",
       "      <td>40938221</td>\n",
       "    </tr>\n",
       "  </tbody>\n",
       "</table>\n",
       "</div>"
      ],
      "text/plain": [
       "   classification_id user_name    user_id               user_ip  workflow_id  \\\n",
       "0          207552876    ebellm  1649740.0  bcb090b573bb93a473ab        13338   \n",
       "1          207552908    ebellm  1649740.0  bcb090b573bb93a473ab        13338   \n",
       "2          207553020    ebellm  1649740.0  bcb090b573bb93a473ab        13338   \n",
       "3          207553077    ebellm  1649740.0  bcb090b573bb93a473ab        13338   \n",
       "4          207553107    ebellm  1649740.0  bcb090b573bb93a473ab        13338   \n",
       "\n",
       "  workflow_name  workflow_version               created_at gold_standard  \\\n",
       "0  Scan cutouts             14.25  2020-03-07 01:13:05 UTC           NaN   \n",
       "1  Scan cutouts             14.25  2020-03-07 01:13:13 UTC           NaN   \n",
       "2  Scan cutouts             14.25  2020-03-07 01:13:44 UTC           NaN   \n",
       "3  Scan cutouts             14.25  2020-03-07 01:14:00 UTC           NaN   \n",
       "4  Scan cutouts             14.25  2020-03-07 01:14:09 UTC           NaN   \n",
       "\n",
       "  expert                                           metadata  \\\n",
       "0    NaN  {\"source\":\"api\",\"session\":\"ef4df560cf0cb8504df...   \n",
       "1    NaN  {\"source\":\"api\",\"session\":\"ef4df560cf0cb8504df...   \n",
       "2    NaN  {\"source\":\"api\",\"session\":\"ef4df560cf0cb8504df...   \n",
       "3    NaN  {\"source\":\"api\",\"session\":\"ef4df560cf0cb8504df...   \n",
       "4    NaN  {\"source\":\"api\",\"session\":\"ef4df560cf0cb8504df...   \n",
       "\n",
       "                                         annotations  \\\n",
       "0  [{\"task\":\"T0\",\"task_label\":\"How would you desc...   \n",
       "1  [{\"task\":\"T0\",\"task_label\":\"How would you desc...   \n",
       "2  [{\"task\":\"T0\",\"task_label\":\"How would you desc...   \n",
       "3  [{\"task\":\"T0\",\"task_label\":\"How would you desc...   \n",
       "4  [{\"task\":\"T0\",\"task_label\":\"How would you desc...   \n",
       "\n",
       "                                        subject_data  subject_ids  \n",
       "0  {\"40938231\":{\"retired\":null,\"diaSourceId\":1764...     40938231  \n",
       "1  {\"40938233\":{\"retired\":null,\"diaSourceId\":1764...     40938233  \n",
       "2  {\"40938229\":{\"retired\":null,\"diaSourceId\":1764...     40938229  \n",
       "3  {\"40938219\":{\"retired\":null,\"diaSourceId\":1764...     40938219  \n",
       "4  {\"40938221\":{\"retired\":null,\"diaSourceId\":1764...     40938221  "
      ]
     },
     "execution_count": 54,
     "metadata": {},
     "output_type": "execute_result"
    }
   ],
   "source": [
    "dfzoo.head()"
   ]
  },
  {
   "cell_type": "code",
   "execution_count": 55,
   "metadata": {},
   "outputs": [],
   "source": [
    "def get_classification(df):\n",
    "    return dfzoo['annotations'].apply(json.loads).apply(lambda x: x[0]['value'])\n",
    "\n",
    "def get_text_comment(df):\n",
    "    return dfzoo['annotations'].apply(json.loads).apply(lambda x: x[1]['value'] if (x[0]['value'] == 'Other') else None)\n",
    "\n",
    "def get_diaSourceId(df):\n",
    "    return dfzoo['subject_data'].apply(json.loads).apply(lambda x: list(x.values())[0]['diaSourceId'])"
   ]
  },
  {
   "cell_type": "code",
   "execution_count": 56,
   "metadata": {},
   "outputs": [],
   "source": [
    "dfzoo['classification'] = get_classification(dfzoo)\n",
    "dfzoo['comment'] = get_text_comment(dfzoo)\n",
    "dfzoo['diaSourceId'] = get_diaSourceId(dfzoo)"
   ]
  },
  {
   "cell_type": "markdown",
   "metadata": {},
   "source": [
    "Foolishly we mixed HSC and DECam data, and for some reason it doesn't seem like the subject sets are made distinct.  I think I should have used some additional keys, not just the diaSourceID.\n",
    "\n",
    "Thankfully there's no overlap in diaSourceId"
   ]
  },
  {
   "cell_type": "code",
   "execution_count": 41,
   "metadata": {},
   "outputs": [],
   "source": [
    "REPO = '/project/mrawls/hits2015/rerun/decorr_2020_03'\n",
    "connection = sqlite3.connect(f'{REPO}/association.db')\n",
    "diaSources = pd.read_sql_query('select * from DiaSource', connection)"
   ]
  },
  {
   "cell_type": "code",
   "execution_count": 42,
   "metadata": {},
   "outputs": [],
   "source": [
    "#REPO = '/project/mrawls/cosmos/rerun/ap_pipe-g-1'\n",
    "#connection = sqlite3.connect(f'{REPO}/association.db')\n",
    "#hscDiaSources = pd.read_sql_query('select * from DiaSource', connection)\n",
    "#np.intersect1d(diaSources.diaSourceId.values,hscDiaSources.diaSourceId.values)"
   ]
  },
  {
   "cell_type": "code",
   "execution_count": 43,
   "metadata": {},
   "outputs": [],
   "source": [
    "diaSources = pd.merge(diaSources,dfzoo[['classification','comment','diaSourceId']],on='diaSourceId',how='inner')"
   ]
  },
  {
   "cell_type": "code",
   "execution_count": 44,
   "metadata": {},
   "outputs": [
    {
     "data": {
      "text/plain": [
       "214"
      ]
     },
     "execution_count": 44,
     "metadata": {},
     "output_type": "execute_result"
    }
   ],
   "source": [
    "len(diaSources)"
   ]
  },
  {
   "cell_type": "code",
   "execution_count": 45,
   "metadata": {},
   "outputs": [
    {
     "data": {
      "text/plain": [
       "<matplotlib.axes._subplots.AxesSubplot at 0x7ff311eb77d0>"
      ]
     },
     "execution_count": 45,
     "metadata": {},
     "output_type": "execute_result"
    },
    {
     "data": {
      "image/png": "[encoded data removed]",
      "text/plain": [
       "<Figure size 432x288 with 1 Axes>"
      ]
     },
     "metadata": {
      "needs_background": "light"
     },
     "output_type": "display_data"
    }
   ],
   "source": [
    "sns.countplot(data=diaSources,y='classification')"
   ]
  },
  {
   "cell_type": "code",
   "execution_count": 46,
   "metadata": {},
   "outputs": [],
   "source": [
    "# what about those no-detections?\n",
    "wnodet = diaSources['classification'] == 'Noise/no detection'"
   ]
  },
  {
   "cell_type": "code",
   "execution_count": 50,
   "metadata": {},
   "outputs": [
    {
     "data": {
      "text/plain": [
       "14    1868.158490\n",
       "19    2378.102988\n",
       "25     190.532576\n",
       "27    -699.935586\n",
       "52   -2704.782024\n",
       "Name: apFlux, dtype: float64"
      ]
     },
     "execution_count": 50,
     "metadata": {},
     "output_type": "execute_result"
    }
   ],
   "source": [
    "diaSources.loc[wnodet,'apFlux'].head()"
   ]
  },
  {
   "cell_type": "code",
   "execution_count": 48,
   "metadata": {},
   "outputs": [
    {
     "name": "stderr",
     "output_type": "stream",
     "text": [
      "/opt/lsst/software/stack/stack/miniconda3-4.7.12-984c9f7/Linux64/ap_association/19.0.0-13-g744ec97+5/python/lsst/ap/association/mapApData.py:388: YAMLLoadWarning: calling yaml.load_all() without Loader=... is deprecated, as the default Loader is unsafe. Please read https://msg.pyyaml.org/load for full details.\n",
      "  table_list = list(yaml.load_all(yaml_stream))\n"
     ]
    }
   ],
   "source": [
    "# via https://github.com/lsst-dm/ap_pipe-notebooks/blob/master/false_positives/False-Positive-Census.ipynb\n",
    "config = MapDiaSourceConfig()\n",
    "unpacker = UnpackApdbFlags(config.flagMap, 'DiaSource')\n",
    "flag_values = unpacker.unpack(diaSources['flags'], 'flags')\n",
    "flag_names = list(flag_values.dtype.names)\n",
    "labels = ['baseFlag', 'offImage', 'edge', 'interp', 'saturated', 'CR', 'bad', 'suspect', \n",
    "          'interpCen', 'saturatedCen', 'CRCen', 'suspectCen', \n",
    "          'centroidFlag', 'centroidPosFlag', 'centroidNegFlag',\n",
    "          'apFluxFlag', 'apTruncated', 'psfFluxFlag', 'noGoodPixels', 'psfFluxFlagEdge',\n",
    "          'diffimForcedFlag', 'diffimForcedNoGoodPixels', 'diffimForcedEdge', \n",
    "          'shapeFlag', 'shapeUnweightedBad', 'shapeUnweighted', 'shapeShift', 'shapeMaxIter', 'shapePsf']"
   ]
  },
  {
   "cell_type": "code",
   "execution_count": 30,
   "metadata": {},
   "outputs": [
    {
     "data": {
      "text/plain": [
       "['base_PixelFlags_flag',\n",
       " 'base_PixelFlags_flag_offimage',\n",
       " 'base_PixelFlags_flag_edge',\n",
       " 'base_PixelFlags_flag_interpolated',\n",
       " 'base_PixelFlags_flag_saturated',\n",
       " 'base_PixelFlags_flag_cr',\n",
       " 'base_PixelFlags_flag_bad',\n",
       " 'base_PixelFlags_flag_suspect',\n",
       " 'base_PixelFlags_flag_interpolatedCenter',\n",
       " 'base_PixelFlags_flag_saturatedCenter',\n",
       " 'base_PixelFlags_flag_crCenter',\n",
       " 'base_PixelFlags_flag_suspectCenter',\n",
       " 'slot_Centroid_flag',\n",
       " 'slot_Centroid_pos_flag',\n",
       " 'slot_Centroid_neg_flag',\n",
       " 'slot_ApFlux_flag',\n",
       " 'slot_ApFlux_flag_apertureTruncated',\n",
       " 'slot_PsfFlux_flag',\n",
       " 'slot_PsfFlux_flag_noGoodPixels',\n",
       " 'slot_PsfFlux_flag_edge',\n",
       " 'ip_diffim_forced_PsfFlux_flag',\n",
       " 'ip_diffim_forced_PsfFlux_flag_noGoodPixels',\n",
       " 'ip_diffim_forced_PsfFlux_flag_edge',\n",
       " 'slot_Shape_flag',\n",
       " 'slot_Shape_flag_unweightedBad',\n",
       " 'slot_Shape_flag_unweighted',\n",
       " 'slot_Shape_flag_shift',\n",
       " 'slot_Shape_flag_maxIter',\n",
       " 'slot_Shape_flag_psf']"
      ]
     },
     "execution_count": 30,
     "metadata": {},
     "output_type": "execute_result"
    }
   ],
   "source": [
    "flag_names"
   ]
  },
  {
   "cell_type": "code",
   "execution_count": 57,
   "metadata": {},
   "outputs": [],
   "source": [
    "flagTable = pd.DataFrame(flag_values, index=diaSources.index)\n",
    "diaSources = diaSources.join(flagTable)"
   ]
  },
  {
   "cell_type": "code",
   "execution_count": 32,
   "metadata": {},
   "outputs": [
    {
     "data": {
      "text/html": [
       "<div>\n",
       "<style scoped>\n",
       "    .dataframe tbody tr th:only-of-type {\n",
       "        vertical-align: middle;\n",
       "    }\n",
       "\n",
       "    .dataframe tbody tr th {\n",
       "        vertical-align: top;\n",
       "    }\n",
       "\n",
       "    .dataframe thead th {\n",
       "        text-align: right;\n",
       "    }\n",
       "</style>\n",
       "<table border=\"1\" class=\"dataframe\">\n",
       "  <thead>\n",
       "    <tr style=\"text-align: right;\">\n",
       "      <th></th>\n",
       "      <th>base_PixelFlags_flag</th>\n",
       "      <th>base_PixelFlags_flag_offimage</th>\n",
       "      <th>base_PixelFlags_flag_edge</th>\n",
       "      <th>base_PixelFlags_flag_interpolated</th>\n",
       "      <th>base_PixelFlags_flag_saturated</th>\n",
       "      <th>base_PixelFlags_flag_cr</th>\n",
       "      <th>base_PixelFlags_flag_bad</th>\n",
       "      <th>base_PixelFlags_flag_suspect</th>\n",
       "      <th>base_PixelFlags_flag_interpolatedCenter</th>\n",
       "      <th>base_PixelFlags_flag_saturatedCenter</th>\n",
       "      <th>...</th>\n",
       "      <th>slot_PsfFlux_flag_edge</th>\n",
       "      <th>ip_diffim_forced_PsfFlux_flag</th>\n",
       "      <th>ip_diffim_forced_PsfFlux_flag_noGoodPixels</th>\n",
       "      <th>ip_diffim_forced_PsfFlux_flag_edge</th>\n",
       "      <th>slot_Shape_flag</th>\n",
       "      <th>slot_Shape_flag_unweightedBad</th>\n",
       "      <th>slot_Shape_flag_unweighted</th>\n",
       "      <th>slot_Shape_flag_shift</th>\n",
       "      <th>slot_Shape_flag_maxIter</th>\n",
       "      <th>slot_Shape_flag_psf</th>\n",
       "    </tr>\n",
       "  </thead>\n",
       "  <tbody>\n",
       "    <tr>\n",
       "      <th>0</th>\n",
       "      <td>False</td>\n",
       "      <td>False</td>\n",
       "      <td>True</td>\n",
       "      <td>True</td>\n",
       "      <td>True</td>\n",
       "      <td>True</td>\n",
       "      <td>True</td>\n",
       "      <td>True</td>\n",
       "      <td>True</td>\n",
       "      <td>True</td>\n",
       "      <td>...</td>\n",
       "      <td>False</td>\n",
       "      <td>False</td>\n",
       "      <td>False</td>\n",
       "      <td>False</td>\n",
       "      <td>True</td>\n",
       "      <td>True</td>\n",
       "      <td>False</td>\n",
       "      <td>False</td>\n",
       "      <td>False</td>\n",
       "      <td>False</td>\n",
       "    </tr>\n",
       "    <tr>\n",
       "      <th>1</th>\n",
       "      <td>False</td>\n",
       "      <td>False</td>\n",
       "      <td>False</td>\n",
       "      <td>True</td>\n",
       "      <td>False</td>\n",
       "      <td>False</td>\n",
       "      <td>True</td>\n",
       "      <td>True</td>\n",
       "      <td>True</td>\n",
       "      <td>False</td>\n",
       "      <td>...</td>\n",
       "      <td>False</td>\n",
       "      <td>False</td>\n",
       "      <td>False</td>\n",
       "      <td>False</td>\n",
       "      <td>True</td>\n",
       "      <td>True</td>\n",
       "      <td>False</td>\n",
       "      <td>False</td>\n",
       "      <td>False</td>\n",
       "      <td>False</td>\n",
       "    </tr>\n",
       "    <tr>\n",
       "      <th>2</th>\n",
       "      <td>False</td>\n",
       "      <td>False</td>\n",
       "      <td>True</td>\n",
       "      <td>True</td>\n",
       "      <td>True</td>\n",
       "      <td>True</td>\n",
       "      <td>True</td>\n",
       "      <td>True</td>\n",
       "      <td>True</td>\n",
       "      <td>True</td>\n",
       "      <td>...</td>\n",
       "      <td>False</td>\n",
       "      <td>False</td>\n",
       "      <td>False</td>\n",
       "      <td>False</td>\n",
       "      <td>True</td>\n",
       "      <td>False</td>\n",
       "      <td>False</td>\n",
       "      <td>True</td>\n",
       "      <td>False</td>\n",
       "      <td>False</td>\n",
       "    </tr>\n",
       "    <tr>\n",
       "      <th>3</th>\n",
       "      <td>False</td>\n",
       "      <td>False</td>\n",
       "      <td>True</td>\n",
       "      <td>True</td>\n",
       "      <td>True</td>\n",
       "      <td>True</td>\n",
       "      <td>False</td>\n",
       "      <td>False</td>\n",
       "      <td>True</td>\n",
       "      <td>True</td>\n",
       "      <td>...</td>\n",
       "      <td>False</td>\n",
       "      <td>False</td>\n",
       "      <td>False</td>\n",
       "      <td>False</td>\n",
       "      <td>True</td>\n",
       "      <td>False</td>\n",
       "      <td>True</td>\n",
       "      <td>False</td>\n",
       "      <td>False</td>\n",
       "      <td>False</td>\n",
       "    </tr>\n",
       "    <tr>\n",
       "      <th>4</th>\n",
       "      <td>False</td>\n",
       "      <td>False</td>\n",
       "      <td>False</td>\n",
       "      <td>False</td>\n",
       "      <td>False</td>\n",
       "      <td>False</td>\n",
       "      <td>False</td>\n",
       "      <td>False</td>\n",
       "      <td>False</td>\n",
       "      <td>False</td>\n",
       "      <td>...</td>\n",
       "      <td>False</td>\n",
       "      <td>False</td>\n",
       "      <td>False</td>\n",
       "      <td>False</td>\n",
       "      <td>False</td>\n",
       "      <td>False</td>\n",
       "      <td>False</td>\n",
       "      <td>False</td>\n",
       "      <td>False</td>\n",
       "      <td>False</td>\n",
       "    </tr>\n",
       "    <tr>\n",
       "      <th>...</th>\n",
       "      <td>...</td>\n",
       "      <td>...</td>\n",
       "      <td>...</td>\n",
       "      <td>...</td>\n",
       "      <td>...</td>\n",
       "      <td>...</td>\n",
       "      <td>...</td>\n",
       "      <td>...</td>\n",
       "      <td>...</td>\n",
       "      <td>...</td>\n",
       "      <td>...</td>\n",
       "      <td>...</td>\n",
       "      <td>...</td>\n",
       "      <td>...</td>\n",
       "      <td>...</td>\n",
       "      <td>...</td>\n",
       "      <td>...</td>\n",
       "      <td>...</td>\n",
       "      <td>...</td>\n",
       "      <td>...</td>\n",
       "      <td>...</td>\n",
       "    </tr>\n",
       "    <tr>\n",
       "      <th>209</th>\n",
       "      <td>False</td>\n",
       "      <td>False</td>\n",
       "      <td>False</td>\n",
       "      <td>False</td>\n",
       "      <td>False</td>\n",
       "      <td>False</td>\n",
       "      <td>False</td>\n",
       "      <td>False</td>\n",
       "      <td>False</td>\n",
       "      <td>False</td>\n",
       "      <td>...</td>\n",
       "      <td>False</td>\n",
       "      <td>False</td>\n",
       "      <td>False</td>\n",
       "      <td>False</td>\n",
       "      <td>False</td>\n",
       "      <td>False</td>\n",
       "      <td>False</td>\n",
       "      <td>False</td>\n",
       "      <td>False</td>\n",
       "      <td>False</td>\n",
       "    </tr>\n",
       "    <tr>\n",
       "      <th>210</th>\n",
       "      <td>False</td>\n",
       "      <td>False</td>\n",
       "      <td>False</td>\n",
       "      <td>False</td>\n",
       "      <td>False</td>\n",
       "      <td>False</td>\n",
       "      <td>False</td>\n",
       "      <td>False</td>\n",
       "      <td>False</td>\n",
       "      <td>False</td>\n",
       "      <td>...</td>\n",
       "      <td>False</td>\n",
       "      <td>False</td>\n",
       "      <td>False</td>\n",
       "      <td>False</td>\n",
       "      <td>True</td>\n",
       "      <td>True</td>\n",
       "      <td>False</td>\n",
       "      <td>True</td>\n",
       "      <td>False</td>\n",
       "      <td>False</td>\n",
       "    </tr>\n",
       "    <tr>\n",
       "      <th>211</th>\n",
       "      <td>False</td>\n",
       "      <td>False</td>\n",
       "      <td>False</td>\n",
       "      <td>True</td>\n",
       "      <td>False</td>\n",
       "      <td>True</td>\n",
       "      <td>False</td>\n",
       "      <td>False</td>\n",
       "      <td>False</td>\n",
       "      <td>False</td>\n",
       "      <td>...</td>\n",
       "      <td>False</td>\n",
       "      <td>False</td>\n",
       "      <td>False</td>\n",
       "      <td>False</td>\n",
       "      <td>False</td>\n",
       "      <td>False</td>\n",
       "      <td>False</td>\n",
       "      <td>False</td>\n",
       "      <td>False</td>\n",
       "      <td>False</td>\n",
       "    </tr>\n",
       "    <tr>\n",
       "      <th>212</th>\n",
       "      <td>False</td>\n",
       "      <td>False</td>\n",
       "      <td>False</td>\n",
       "      <td>False</td>\n",
       "      <td>False</td>\n",
       "      <td>False</td>\n",
       "      <td>False</td>\n",
       "      <td>False</td>\n",
       "      <td>False</td>\n",
       "      <td>False</td>\n",
       "      <td>...</td>\n",
       "      <td>False</td>\n",
       "      <td>False</td>\n",
       "      <td>False</td>\n",
       "      <td>False</td>\n",
       "      <td>False</td>\n",
       "      <td>False</td>\n",
       "      <td>False</td>\n",
       "      <td>False</td>\n",
       "      <td>False</td>\n",
       "      <td>False</td>\n",
       "    </tr>\n",
       "    <tr>\n",
       "      <th>213</th>\n",
       "      <td>False</td>\n",
       "      <td>False</td>\n",
       "      <td>False</td>\n",
       "      <td>False</td>\n",
       "      <td>True</td>\n",
       "      <td>False</td>\n",
       "      <td>False</td>\n",
       "      <td>False</td>\n",
       "      <td>False</td>\n",
       "      <td>True</td>\n",
       "      <td>...</td>\n",
       "      <td>False</td>\n",
       "      <td>False</td>\n",
       "      <td>False</td>\n",
       "      <td>False</td>\n",
       "      <td>False</td>\n",
       "      <td>False</td>\n",
       "      <td>False</td>\n",
       "      <td>False</td>\n",
       "      <td>False</td>\n",
       "      <td>False</td>\n",
       "    </tr>\n",
       "  </tbody>\n",
       "</table>\n",
       "<p>214 rows × 29 columns</p>\n",
       "</div>"
      ],
      "text/plain": [
       "     base_PixelFlags_flag  base_PixelFlags_flag_offimage  \\\n",
       "0                   False                          False   \n",
       "1                   False                          False   \n",
       "2                   False                          False   \n",
       "3                   False                          False   \n",
       "4                   False                          False   \n",
       "..                    ...                            ...   \n",
       "209                 False                          False   \n",
       "210                 False                          False   \n",
       "211                 False                          False   \n",
       "212                 False                          False   \n",
       "213                 False                          False   \n",
       "\n",
       "     base_PixelFlags_flag_edge  base_PixelFlags_flag_interpolated  \\\n",
       "0                         True                               True   \n",
       "1                        False                               True   \n",
       "2                         True                               True   \n",
       "3                         True                               True   \n",
       "4                        False                              False   \n",
       "..                         ...                                ...   \n",
       "209                      False                              False   \n",
       "210                      False                              False   \n",
       "211                      False                               True   \n",
       "212                      False                              False   \n",
       "213                      False                              False   \n",
       "\n",
       "     base_PixelFlags_flag_saturated  base_PixelFlags_flag_cr  \\\n",
       "0                              True                     True   \n",
       "1                             False                    False   \n",
       "2                              True                     True   \n",
       "3                              True                     True   \n",
       "4                             False                    False   \n",
       "..                              ...                      ...   \n",
       "209                           False                    False   \n",
       "210                           False                    False   \n",
       "211                           False                     True   \n",
       "212                           False                    False   \n",
       "213                            True                    False   \n",
       "\n",
       "     base_PixelFlags_flag_bad  base_PixelFlags_flag_suspect  \\\n",
       "0                        True                          True   \n",
       "1                        True                          True   \n",
       "2                        True                          True   \n",
       "3                       False                         False   \n",
       "4                       False                         False   \n",
       "..                        ...                           ...   \n",
       "209                     False                         False   \n",
       "210                     False                         False   \n",
       "211                     False                         False   \n",
       "212                     False                         False   \n",
       "213                     False                         False   \n",
       "\n",
       "     base_PixelFlags_flag_interpolatedCenter  \\\n",
       "0                                       True   \n",
       "1                                       True   \n",
       "2                                       True   \n",
       "3                                       True   \n",
       "4                                      False   \n",
       "..                                       ...   \n",
       "209                                    False   \n",
       "210                                    False   \n",
       "211                                    False   \n",
       "212                                    False   \n",
       "213                                    False   \n",
       "\n",
       "     base_PixelFlags_flag_saturatedCenter  ...  slot_PsfFlux_flag_edge  \\\n",
       "0                                    True  ...                   False   \n",
       "1                                   False  ...                   False   \n",
       "2                                    True  ...                   False   \n",
       "3                                    True  ...                   False   \n",
       "4                                   False  ...                   False   \n",
       "..                                    ...  ...                     ...   \n",
       "209                                 False  ...                   False   \n",
       "210                                 False  ...                   False   \n",
       "211                                 False  ...                   False   \n",
       "212                                 False  ...                   False   \n",
       "213                                  True  ...                   False   \n",
       "\n",
       "     ip_diffim_forced_PsfFlux_flag  \\\n",
       "0                            False   \n",
       "1                            False   \n",
       "2                            False   \n",
       "3                            False   \n",
       "4                            False   \n",
       "..                             ...   \n",
       "209                          False   \n",
       "210                          False   \n",
       "211                          False   \n",
       "212                          False   \n",
       "213                          False   \n",
       "\n",
       "     ip_diffim_forced_PsfFlux_flag_noGoodPixels  \\\n",
       "0                                         False   \n",
       "1                                         False   \n",
       "2                                         False   \n",
       "3                                         False   \n",
       "4                                         False   \n",
       "..                                          ...   \n",
       "209                                       False   \n",
       "210                                       False   \n",
       "211                                       False   \n",
       "212                                       False   \n",
       "213                                       False   \n",
       "\n",
       "     ip_diffim_forced_PsfFlux_flag_edge  slot_Shape_flag  \\\n",
       "0                                 False             True   \n",
       "1                                 False             True   \n",
       "2                                 False             True   \n",
       "3                                 False             True   \n",
       "4                                 False            False   \n",
       "..                                  ...              ...   \n",
       "209                               False            False   \n",
       "210                               False             True   \n",
       "211                               False            False   \n",
       "212                               False            False   \n",
       "213                               False            False   \n",
       "\n",
       "     slot_Shape_flag_unweightedBad  slot_Shape_flag_unweighted  \\\n",
       "0                             True                       False   \n",
       "1                             True                       False   \n",
       "2                            False                       False   \n",
       "3                            False                        True   \n",
       "4                            False                       False   \n",
       "..                             ...                         ...   \n",
       "209                          False                       False   \n",
       "210                           True                       False   \n",
       "211                          False                       False   \n",
       "212                          False                       False   \n",
       "213                          False                       False   \n",
       "\n",
       "     slot_Shape_flag_shift  slot_Shape_flag_maxIter  slot_Shape_flag_psf  \n",
       "0                    False                    False                False  \n",
       "1                    False                    False                False  \n",
       "2                     True                    False                False  \n",
       "3                    False                    False                False  \n",
       "4                    False                    False                False  \n",
       "..                     ...                      ...                  ...  \n",
       "209                  False                    False                False  \n",
       "210                   True                    False                False  \n",
       "211                  False                    False                False  \n",
       "212                  False                    False                False  \n",
       "213                  False                    False                False  \n",
       "\n",
       "[214 rows x 29 columns]"
      ]
     },
     "execution_count": 32,
     "metadata": {},
     "output_type": "execute_result"
    }
   ],
   "source": [
    "flagTable"
   ]
  },
  {
   "cell_type": "code",
   "execution_count": 59,
   "metadata": {},
   "outputs": [
    {
     "data": {
      "image/png": "[encoded data removed]",
      "text/plain": [
       "<Figure size 432x288 with 1 Axes>"
      ]
     },
     "metadata": {
      "needs_background": "light"
     },
     "output_type": "display_data"
    },
    {
     "data": {
      "image/png": "[encoded data removed]",
      "text/plain": [
       "<Figure size 432x288 with 1 Axes>"
      ]
     },
     "metadata": {
      "needs_background": "light"
     },
     "output_type": "display_data"
    },
    {
     "data": {
      "image/png": "[encoded data removed]",
      "text/plain": [
       "<Figure size 432x288 with 1 Axes>"
      ]
     },
     "metadata": {
      "needs_background": "light"
     },
     "output_type": "display_data"
    },
    {
     "data": {
      "image/png": "[encoded data removed]",
      "text/plain": [
       "<Figure size 432x288 with 1 Axes>"
      ]
     },
     "metadata": {
      "needs_background": "light"
     },
     "output_type": "display_data"
    },
    {
     "data": {
      "image/png": "[encoded data removed]",
      "text/plain": [
       "<Figure size 432x288 with 1 Axes>"
      ]
     },
     "metadata": {
      "needs_background": "light"
     },
     "output_type": "display_data"
    },
    {
     "data": {
      "image/png": "[encoded data removed]",
      "text/plain": [
       "<Figure size 432x288 with 1 Axes>"
      ]
     },
     "metadata": {
      "needs_background": "light"
     },
     "output_type": "display_data"
    },
    {
     "data": {
      "image/png": "[encoded data removed]",
      "text/plain": [
       "<Figure size 432x288 with 1 Axes>"
      ]
     },
     "metadata": {
      "needs_background": "light"
     },
     "output_type": "display_data"
    },
    {
     "data": {
      "image/png": "[encoded data removed]",
      "text/plain": [
       "<Figure size 432x288 with 1 Axes>"
      ]
     },
     "metadata": {
      "needs_background": "light"
     },
     "output_type": "display_data"
    },
    {
     "data": {
      "image/png": "[encoded data removed]",
      "text/plain": [
       "<Figure size 432x288 with 1 Axes>"
      ]
     },
     "metadata": {
      "needs_background": "light"
     },
     "output_type": "display_data"
    },
    {
     "data": {
      "image/png": "[encoded data removed]",
      "text/plain": [
       "<Figure size 432x288 with 1 Axes>"
      ]
     },
     "metadata": {
      "needs_background": "light"
     },
     "output_type": "display_data"
    },
    {
     "data": {
      "image/png": "[encoded data removed]",
      "text/plain": [
       "<Figure size 432x288 with 1 Axes>"
      ]
     },
     "metadata": {
      "needs_background": "light"
     },
     "output_type": "display_data"
    },
    {
     "data": {
      "image/png": "[encoded data removed]",
      "text/plain": [
       "<Figure size 432x288 with 1 Axes>"
      ]
     },
     "metadata": {
      "needs_background": "light"
     },
     "output_type": "display_data"
    },
    {
     "data": {
      "image/png": "[encoded data removed]",
      "text/plain": [
       "<Figure size 432x288 with 1 Axes>"
      ]
     },
     "metadata": {
      "needs_background": "light"
     },
     "output_type": "display_data"
    },
    {
     "data": {
      "image/png": "[encoded data removed]",
      "text/plain": [
       "<Figure size 432x288 with 1 Axes>"
      ]
     },
     "metadata": {
      "needs_background": "light"
     },
     "output_type": "display_data"
    },
    {
     "data": {
      "image/png": "[encoded data removed]",
      "text/plain": [
       "<Figure size 432x288 with 1 Axes>"
      ]
     },
     "metadata": {
      "needs_background": "light"
     },
     "output_type": "display_data"
    },
    {
     "data": {
      "image/png": "[encoded data removed]",
      "text/plain": [
       "<Figure size 432x288 with 1 Axes>"
      ]
     },
     "metadata": {
      "needs_background": "light"
     },
     "output_type": "display_data"
    }
   ],
   "source": [
    "for name in flag_names:\n",
    "    w = diaSources.loc[:,name]\n",
    "    if np.sum(w):\n",
    "        fig = plt.figure()\n",
    "        sns.countplot(data=diaSources.loc[w,:],y='classification')\n",
    "        plt.title(name)"
   ]
  },
  {
   "cell_type": "code",
   "execution_count": 91,
   "metadata": {},
   "outputs": [
    {
     "name": "stderr",
     "output_type": "stream",
     "text": [
      "/opt/lsst/software/stack/python/miniconda3-4.7.12/envs/lsst-scipipe-984c9f7/lib/python3.7/site-packages/ipykernel/__main__.py:2: RuntimeWarning: invalid value encountered in long_scalars\n",
      "  from ipykernel import kernelapp as app\n"
     ]
    },
    {
     "data": {
      "text/html": [
       "<div>\n",
       "<style scoped>\n",
       "    .dataframe tbody tr th:only-of-type {\n",
       "        vertical-align: middle;\n",
       "    }\n",
       "\n",
       "    .dataframe tbody tr th {\n",
       "        vertical-align: top;\n",
       "    }\n",
       "\n",
       "    .dataframe thead th {\n",
       "        text-align: right;\n",
       "    }\n",
       "</style>\n",
       "<table border=\"1\" class=\"dataframe\">\n",
       "  <thead>\n",
       "    <tr style=\"text-align: right;\">\n",
       "      <th></th>\n",
       "      <th>base_PixelFlags_flag</th>\n",
       "      <th>base_PixelFlags_flag_offimage</th>\n",
       "      <th>base_PixelFlags_flag_edge</th>\n",
       "      <th>base_PixelFlags_flag_interpolated</th>\n",
       "      <th>base_PixelFlags_flag_saturated</th>\n",
       "      <th>base_PixelFlags_flag_cr</th>\n",
       "      <th>base_PixelFlags_flag_bad</th>\n",
       "      <th>base_PixelFlags_flag_suspect</th>\n",
       "      <th>base_PixelFlags_flag_interpolatedCenter</th>\n",
       "      <th>base_PixelFlags_flag_saturatedCenter</th>\n",
       "      <th>...</th>\n",
       "      <th>slot_PsfFlux_flag_edge</th>\n",
       "      <th>ip_diffim_forced_PsfFlux_flag</th>\n",
       "      <th>ip_diffim_forced_PsfFlux_flag_noGoodPixels</th>\n",
       "      <th>ip_diffim_forced_PsfFlux_flag_edge</th>\n",
       "      <th>slot_Shape_flag</th>\n",
       "      <th>slot_Shape_flag_unweightedBad</th>\n",
       "      <th>slot_Shape_flag_unweighted</th>\n",
       "      <th>slot_Shape_flag_shift</th>\n",
       "      <th>slot_Shape_flag_maxIter</th>\n",
       "      <th>slot_Shape_flag_psf</th>\n",
       "    </tr>\n",
       "    <tr>\n",
       "      <th>classification</th>\n",
       "      <th></th>\n",
       "      <th></th>\n",
       "      <th></th>\n",
       "      <th></th>\n",
       "      <th></th>\n",
       "      <th></th>\n",
       "      <th></th>\n",
       "      <th></th>\n",
       "      <th></th>\n",
       "      <th></th>\n",
       "      <th></th>\n",
       "      <th></th>\n",
       "      <th></th>\n",
       "      <th></th>\n",
       "      <th></th>\n",
       "      <th></th>\n",
       "      <th></th>\n",
       "      <th></th>\n",
       "      <th></th>\n",
       "      <th></th>\n",
       "      <th></th>\n",
       "    </tr>\n",
       "  </thead>\n",
       "  <tbody>\n",
       "    <tr>\n",
       "      <th>Bad column</th>\n",
       "      <td>False</td>\n",
       "      <td>False</td>\n",
       "      <td>0.333333</td>\n",
       "      <td>1.000000</td>\n",
       "      <td>0.066667</td>\n",
       "      <td>0.266667</td>\n",
       "      <td>0.933333</td>\n",
       "      <td>0.866667</td>\n",
       "      <td>0.933333</td>\n",
       "      <td>0.066667</td>\n",
       "      <td>...</td>\n",
       "      <td>False</td>\n",
       "      <td>False</td>\n",
       "      <td>False</td>\n",
       "      <td>False</td>\n",
       "      <td>0.933333</td>\n",
       "      <td>0.800000</td>\n",
       "      <td>0.066667</td>\n",
       "      <td>0.066667</td>\n",
       "      <td>0.066667</td>\n",
       "      <td>False</td>\n",
       "    </tr>\n",
       "    <tr>\n",
       "      <th>Clean point source</th>\n",
       "      <td>False</td>\n",
       "      <td>False</td>\n",
       "      <td>0.026316</td>\n",
       "      <td>0.368421</td>\n",
       "      <td>0.026316</td>\n",
       "      <td>0.131579</td>\n",
       "      <td>0.236842</td>\n",
       "      <td>0.157895</td>\n",
       "      <td>0.263158</td>\n",
       "      <td>0.026316</td>\n",
       "      <td>...</td>\n",
       "      <td>False</td>\n",
       "      <td>False</td>\n",
       "      <td>False</td>\n",
       "      <td>False</td>\n",
       "      <td>0.500000</td>\n",
       "      <td>0.500000</td>\n",
       "      <td>0.000000</td>\n",
       "      <td>0.000000</td>\n",
       "      <td>0.000000</td>\n",
       "      <td>False</td>\n",
       "    </tr>\n",
       "    <tr>\n",
       "      <th>Cosmic Ray</th>\n",
       "      <td>False</td>\n",
       "      <td>False</td>\n",
       "      <td>0.000000</td>\n",
       "      <td>0.500000</td>\n",
       "      <td>0.000000</td>\n",
       "      <td>0.500000</td>\n",
       "      <td>0.500000</td>\n",
       "      <td>0.000000</td>\n",
       "      <td>0.500000</td>\n",
       "      <td>0.000000</td>\n",
       "      <td>...</td>\n",
       "      <td>False</td>\n",
       "      <td>False</td>\n",
       "      <td>False</td>\n",
       "      <td>False</td>\n",
       "      <td>0.500000</td>\n",
       "      <td>0.500000</td>\n",
       "      <td>0.000000</td>\n",
       "      <td>0.000000</td>\n",
       "      <td>0.000000</td>\n",
       "      <td>False</td>\n",
       "    </tr>\n",
       "    <tr>\n",
       "      <th>Dipole</th>\n",
       "      <td>False</td>\n",
       "      <td>False</td>\n",
       "      <td>0.039216</td>\n",
       "      <td>0.431373</td>\n",
       "      <td>0.176471</td>\n",
       "      <td>0.372549</td>\n",
       "      <td>0.078431</td>\n",
       "      <td>0.078431</td>\n",
       "      <td>0.176471</td>\n",
       "      <td>0.196078</td>\n",
       "      <td>...</td>\n",
       "      <td>False</td>\n",
       "      <td>False</td>\n",
       "      <td>False</td>\n",
       "      <td>False</td>\n",
       "      <td>0.725490</td>\n",
       "      <td>0.607843</td>\n",
       "      <td>0.098039</td>\n",
       "      <td>0.078431</td>\n",
       "      <td>0.000000</td>\n",
       "      <td>False</td>\n",
       "    </tr>\n",
       "    <tr>\n",
       "      <th>Edge</th>\n",
       "      <td>False</td>\n",
       "      <td>False</td>\n",
       "      <td>0.482759</td>\n",
       "      <td>1.000000</td>\n",
       "      <td>0.103448</td>\n",
       "      <td>0.241379</td>\n",
       "      <td>1.000000</td>\n",
       "      <td>0.965517</td>\n",
       "      <td>0.827586</td>\n",
       "      <td>0.000000</td>\n",
       "      <td>...</td>\n",
       "      <td>False</td>\n",
       "      <td>False</td>\n",
       "      <td>False</td>\n",
       "      <td>False</td>\n",
       "      <td>0.793103</td>\n",
       "      <td>0.620690</td>\n",
       "      <td>0.172414</td>\n",
       "      <td>0.000000</td>\n",
       "      <td>0.034483</td>\n",
       "      <td>False</td>\n",
       "    </tr>\n",
       "    <tr>\n",
       "      <th>Ghost</th>\n",
       "      <td>False</td>\n",
       "      <td>False</td>\n",
       "      <td>1.000000</td>\n",
       "      <td>1.000000</td>\n",
       "      <td>1.000000</td>\n",
       "      <td>0.000000</td>\n",
       "      <td>0.000000</td>\n",
       "      <td>1.000000</td>\n",
       "      <td>0.000000</td>\n",
       "      <td>0.000000</td>\n",
       "      <td>...</td>\n",
       "      <td>False</td>\n",
       "      <td>False</td>\n",
       "      <td>False</td>\n",
       "      <td>False</td>\n",
       "      <td>1.000000</td>\n",
       "      <td>0.000000</td>\n",
       "      <td>1.000000</td>\n",
       "      <td>0.000000</td>\n",
       "      <td>0.000000</td>\n",
       "      <td>False</td>\n",
       "    </tr>\n",
       "    <tr>\n",
       "      <th>Noise/no detection</th>\n",
       "      <td>False</td>\n",
       "      <td>False</td>\n",
       "      <td>0.380952</td>\n",
       "      <td>0.761905</td>\n",
       "      <td>0.000000</td>\n",
       "      <td>0.142857</td>\n",
       "      <td>0.690476</td>\n",
       "      <td>0.928571</td>\n",
       "      <td>0.404762</td>\n",
       "      <td>0.000000</td>\n",
       "      <td>...</td>\n",
       "      <td>False</td>\n",
       "      <td>False</td>\n",
       "      <td>False</td>\n",
       "      <td>False</td>\n",
       "      <td>0.857143</td>\n",
       "      <td>0.690476</td>\n",
       "      <td>0.119048</td>\n",
       "      <td>0.047619</td>\n",
       "      <td>0.000000</td>\n",
       "      <td>False</td>\n",
       "    </tr>\n",
       "    <tr>\n",
       "      <th>Other</th>\n",
       "      <td>False</td>\n",
       "      <td>False</td>\n",
       "      <td>0.571429</td>\n",
       "      <td>0.857143</td>\n",
       "      <td>0.571429</td>\n",
       "      <td>0.571429</td>\n",
       "      <td>0.714286</td>\n",
       "      <td>0.714286</td>\n",
       "      <td>0.857143</td>\n",
       "      <td>0.571429</td>\n",
       "      <td>...</td>\n",
       "      <td>False</td>\n",
       "      <td>False</td>\n",
       "      <td>False</td>\n",
       "      <td>False</td>\n",
       "      <td>0.714286</td>\n",
       "      <td>0.428571</td>\n",
       "      <td>0.142857</td>\n",
       "      <td>0.142857</td>\n",
       "      <td>0.000000</td>\n",
       "      <td>False</td>\n",
       "    </tr>\n",
       "    <tr>\n",
       "      <th>Ringing artifact</th>\n",
       "      <td>False</td>\n",
       "      <td>False</td>\n",
       "      <td>0.434783</td>\n",
       "      <td>0.739130</td>\n",
       "      <td>0.521739</td>\n",
       "      <td>0.565217</td>\n",
       "      <td>0.086957</td>\n",
       "      <td>0.260870</td>\n",
       "      <td>0.565217</td>\n",
       "      <td>0.521739</td>\n",
       "      <td>...</td>\n",
       "      <td>False</td>\n",
       "      <td>False</td>\n",
       "      <td>False</td>\n",
       "      <td>False</td>\n",
       "      <td>0.478261</td>\n",
       "      <td>0.347826</td>\n",
       "      <td>0.130435</td>\n",
       "      <td>0.000000</td>\n",
       "      <td>0.000000</td>\n",
       "      <td>False</td>\n",
       "    </tr>\n",
       "    <tr>\n",
       "      <th>Saturation artifact</th>\n",
       "      <td>False</td>\n",
       "      <td>False</td>\n",
       "      <td>0.800000</td>\n",
       "      <td>1.000000</td>\n",
       "      <td>1.000000</td>\n",
       "      <td>0.800000</td>\n",
       "      <td>0.000000</td>\n",
       "      <td>0.400000</td>\n",
       "      <td>0.800000</td>\n",
       "      <td>1.000000</td>\n",
       "      <td>...</td>\n",
       "      <td>False</td>\n",
       "      <td>False</td>\n",
       "      <td>False</td>\n",
       "      <td>False</td>\n",
       "      <td>0.400000</td>\n",
       "      <td>0.000000</td>\n",
       "      <td>0.000000</td>\n",
       "      <td>0.400000</td>\n",
       "      <td>0.000000</td>\n",
       "      <td>False</td>\n",
       "    </tr>\n",
       "  </tbody>\n",
       "</table>\n",
       "<p>10 rows × 29 columns</p>\n",
       "</div>"
      ],
      "text/plain": [
       "                     base_PixelFlags_flag  base_PixelFlags_flag_offimage  \\\n",
       "classification                                                             \n",
       "Bad column                          False                          False   \n",
       "Clean point source                  False                          False   \n",
       "Cosmic Ray                          False                          False   \n",
       "Dipole                              False                          False   \n",
       "Edge                                False                          False   \n",
       "Ghost                               False                          False   \n",
       "Noise/no detection                  False                          False   \n",
       "Other                               False                          False   \n",
       "Ringing artifact                    False                          False   \n",
       "Saturation artifact                 False                          False   \n",
       "\n",
       "                     base_PixelFlags_flag_edge  \\\n",
       "classification                                   \n",
       "Bad column                            0.333333   \n",
       "Clean point source                    0.026316   \n",
       "Cosmic Ray                            0.000000   \n",
       "Dipole                                0.039216   \n",
       "Edge                                  0.482759   \n",
       "Ghost                                 1.000000   \n",
       "Noise/no detection                    0.380952   \n",
       "Other                                 0.571429   \n",
       "Ringing artifact                      0.434783   \n",
       "Saturation artifact                   0.800000   \n",
       "\n",
       "                     base_PixelFlags_flag_interpolated  \\\n",
       "classification                                           \n",
       "Bad column                                    1.000000   \n",
       "Clean point source                            0.368421   \n",
       "Cosmic Ray                                    0.500000   \n",
       "Dipole                                        0.431373   \n",
       "Edge                                          1.000000   \n",
       "Ghost                                         1.000000   \n",
       "Noise/no detection                            0.761905   \n",
       "Other                                         0.857143   \n",
       "Ringing artifact                              0.739130   \n",
       "Saturation artifact                           1.000000   \n",
       "\n",
       "                     base_PixelFlags_flag_saturated  base_PixelFlags_flag_cr  \\\n",
       "classification                                                                 \n",
       "Bad column                                 0.066667                 0.266667   \n",
       "Clean point source                         0.026316                 0.131579   \n",
       "Cosmic Ray                                 0.000000                 0.500000   \n",
       "Dipole                                     0.176471                 0.372549   \n",
       "Edge                                       0.103448                 0.241379   \n",
       "Ghost                                      1.000000                 0.000000   \n",
       "Noise/no detection                         0.000000                 0.142857   \n",
       "Other                                      0.571429                 0.571429   \n",
       "Ringing artifact                           0.521739                 0.565217   \n",
       "Saturation artifact                        1.000000                 0.800000   \n",
       "\n",
       "                     base_PixelFlags_flag_bad  base_PixelFlags_flag_suspect  \\\n",
       "classification                                                                \n",
       "Bad column                           0.933333                      0.866667   \n",
       "Clean point source                   0.236842                      0.157895   \n",
       "Cosmic Ray                           0.500000                      0.000000   \n",
       "Dipole                               0.078431                      0.078431   \n",
       "Edge                                 1.000000                      0.965517   \n",
       "Ghost                                0.000000                      1.000000   \n",
       "Noise/no detection                   0.690476                      0.928571   \n",
       "Other                                0.714286                      0.714286   \n",
       "Ringing artifact                     0.086957                      0.260870   \n",
       "Saturation artifact                  0.000000                      0.400000   \n",
       "\n",
       "                     base_PixelFlags_flag_interpolatedCenter  \\\n",
       "classification                                                 \n",
       "Bad column                                          0.933333   \n",
       "Clean point source                                  0.263158   \n",
       "Cosmic Ray                                          0.500000   \n",
       "Dipole                                              0.176471   \n",
       "Edge                                                0.827586   \n",
       "Ghost                                               0.000000   \n",
       "Noise/no detection                                  0.404762   \n",
       "Other                                               0.857143   \n",
       "Ringing artifact                                    0.565217   \n",
       "Saturation artifact                                 0.800000   \n",
       "\n",
       "                     base_PixelFlags_flag_saturatedCenter  ...  \\\n",
       "classification                                             ...   \n",
       "Bad column                                       0.066667  ...   \n",
       "Clean point source                               0.026316  ...   \n",
       "Cosmic Ray                                       0.000000  ...   \n",
       "Dipole                                           0.196078  ...   \n",
       "Edge                                             0.000000  ...   \n",
       "Ghost                                            0.000000  ...   \n",
       "Noise/no detection                               0.000000  ...   \n",
       "Other                                            0.571429  ...   \n",
       "Ringing artifact                                 0.521739  ...   \n",
       "Saturation artifact                              1.000000  ...   \n",
       "\n",
       "                     slot_PsfFlux_flag_edge  ip_diffim_forced_PsfFlux_flag  \\\n",
       "classification                                                               \n",
       "Bad column                            False                          False   \n",
       "Clean point source                    False                          False   \n",
       "Cosmic Ray                            False                          False   \n",
       "Dipole                                False                          False   \n",
       "Edge                                  False                          False   \n",
       "Ghost                                 False                          False   \n",
       "Noise/no detection                    False                          False   \n",
       "Other                                 False                          False   \n",
       "Ringing artifact                      False                          False   \n",
       "Saturation artifact                   False                          False   \n",
       "\n",
       "                     ip_diffim_forced_PsfFlux_flag_noGoodPixels  \\\n",
       "classification                                                    \n",
       "Bad column                                                False   \n",
       "Clean point source                                        False   \n",
       "Cosmic Ray                                                False   \n",
       "Dipole                                                    False   \n",
       "Edge                                                      False   \n",
       "Ghost                                                     False   \n",
       "Noise/no detection                                        False   \n",
       "Other                                                     False   \n",
       "Ringing artifact                                          False   \n",
       "Saturation artifact                                       False   \n",
       "\n",
       "                     ip_diffim_forced_PsfFlux_flag_edge  slot_Shape_flag  \\\n",
       "classification                                                             \n",
       "Bad column                                        False         0.933333   \n",
       "Clean point source                                False         0.500000   \n",
       "Cosmic Ray                                        False         0.500000   \n",
       "Dipole                                            False         0.725490   \n",
       "Edge                                              False         0.793103   \n",
       "Ghost                                             False         1.000000   \n",
       "Noise/no detection                                False         0.857143   \n",
       "Other                                             False         0.714286   \n",
       "Ringing artifact                                  False         0.478261   \n",
       "Saturation artifact                               False         0.400000   \n",
       "\n",
       "                     slot_Shape_flag_unweightedBad  \\\n",
       "classification                                       \n",
       "Bad column                                0.800000   \n",
       "Clean point source                        0.500000   \n",
       "Cosmic Ray                                0.500000   \n",
       "Dipole                                    0.607843   \n",
       "Edge                                      0.620690   \n",
       "Ghost                                     0.000000   \n",
       "Noise/no detection                        0.690476   \n",
       "Other                                     0.428571   \n",
       "Ringing artifact                          0.347826   \n",
       "Saturation artifact                       0.000000   \n",
       "\n",
       "                     slot_Shape_flag_unweighted  slot_Shape_flag_shift  \\\n",
       "classification                                                           \n",
       "Bad column                             0.066667               0.066667   \n",
       "Clean point source                     0.000000               0.000000   \n",
       "Cosmic Ray                             0.000000               0.000000   \n",
       "Dipole                                 0.098039               0.078431   \n",
       "Edge                                   0.172414               0.000000   \n",
       "Ghost                                  1.000000               0.000000   \n",
       "Noise/no detection                     0.119048               0.047619   \n",
       "Other                                  0.142857               0.142857   \n",
       "Ringing artifact                       0.130435               0.000000   \n",
       "Saturation artifact                    0.000000               0.400000   \n",
       "\n",
       "                     slot_Shape_flag_maxIter  slot_Shape_flag_psf  \n",
       "classification                                                     \n",
       "Bad column                          0.066667                False  \n",
       "Clean point source                  0.000000                False  \n",
       "Cosmic Ray                          0.000000                False  \n",
       "Dipole                              0.000000                False  \n",
       "Edge                                0.034483                False  \n",
       "Ghost                               0.000000                False  \n",
       "Noise/no detection                  0.000000                False  \n",
       "Other                               0.000000                False  \n",
       "Ringing artifact                    0.000000                False  \n",
       "Saturation artifact                 0.000000                False  \n",
       "\n",
       "[10 rows x 29 columns]"
      ]
     },
     "execution_count": 91,
     "metadata": {},
     "output_type": "execute_result"
    }
   ],
   "source": [
    "classgrp = diaSources.groupby('classification')\n",
    "flag_pct_byclass = classgrp[flag_names].agg(lambda x: (np.sum(x)/len(x)).astype(float))\n",
    "flag_pct_byclass"
   ]
  },
  {
   "cell_type": "code",
   "execution_count": 81,
   "metadata": {},
   "outputs": [
    {
     "name": "stderr",
     "output_type": "stream",
     "text": [
      "/home/ebellm/.local/lib/python3.7/site-packages/seaborn/axisgrid.py:728: UserWarning: Using the barplot function without specifying `order` is likely to produce an incorrect plot.\n",
      "  warnings.warn(warning)\n"
     ]
    },
    {
     "ename": "TypeError",
     "evalue": "cannot perform reduce with flexible type",
     "output_type": "error",
     "traceback": [
      "\u001b[0;31m---------------------------------------------------------------------------\u001b[0m",
      "\u001b[0;31mTypeError\u001b[0m                                 Traceback (most recent call last)",
      "\u001b[0;32m<ipython-input-81-c1a3ac9a5424>\u001b[0m in \u001b[0;36m<module>\u001b[0;34m\u001b[0m\n\u001b[1;32m      1\u001b[0m grid = sns.FacetGrid(flag_pct_byclass.reset_index(), col=\"classification\",  palette=\"tab20c\",\n\u001b[1;32m      2\u001b[0m                      col_wrap=4, height=5)\n\u001b[0;32m----> 3\u001b[0;31m \u001b[0mgrid\u001b[0m\u001b[0;34m.\u001b[0m\u001b[0mmap\u001b[0m\u001b[0;34m(\u001b[0m\u001b[0msns\u001b[0m\u001b[0;34m.\u001b[0m\u001b[0mbarplot\u001b[0m\u001b[0;34m,\u001b[0m\u001b[0my\u001b[0m\u001b[0;34m=\u001b[0m\u001b[0mflag_names\u001b[0m\u001b[0;34m)\u001b[0m\u001b[0;34m\u001b[0m\u001b[0;34m\u001b[0m\u001b[0m\n\u001b[0m",
      "\u001b[0;32m~/.local/lib/python3.7/site-packages/seaborn/axisgrid.py\u001b[0m in \u001b[0;36mmap\u001b[0;34m(self, func, *args, **kwargs)\u001b[0m\n\u001b[1;32m    765\u001b[0m \u001b[0;34m\u001b[0m\u001b[0m\n\u001b[1;32m    766\u001b[0m             \u001b[0;31m# Draw the plot\u001b[0m\u001b[0;34m\u001b[0m\u001b[0;34m\u001b[0m\u001b[0;34m\u001b[0m\u001b[0m\n\u001b[0;32m--> 767\u001b[0;31m             \u001b[0mself\u001b[0m\u001b[0;34m.\u001b[0m\u001b[0m_facet_plot\u001b[0m\u001b[0;34m(\u001b[0m\u001b[0mfunc\u001b[0m\u001b[0;34m,\u001b[0m \u001b[0max\u001b[0m\u001b[0;34m,\u001b[0m \u001b[0mplot_args\u001b[0m\u001b[0;34m,\u001b[0m \u001b[0mkwargs\u001b[0m\u001b[0;34m)\u001b[0m\u001b[0;34m\u001b[0m\u001b[0;34m\u001b[0m\u001b[0m\n\u001b[0m\u001b[1;32m    768\u001b[0m \u001b[0;34m\u001b[0m\u001b[0m\n\u001b[1;32m    769\u001b[0m         \u001b[0;31m# Finalize the annotations and layout\u001b[0m\u001b[0;34m\u001b[0m\u001b[0;34m\u001b[0m\u001b[0;34m\u001b[0m\u001b[0m\n",
      "\u001b[0;32m~/.local/lib/python3.7/site-packages/seaborn/axisgrid.py\u001b[0m in \u001b[0;36m_facet_plot\u001b[0;34m(self, func, ax, plot_args, plot_kwargs)\u001b[0m\n\u001b[1;32m    849\u001b[0m \u001b[0;34m\u001b[0m\u001b[0m\n\u001b[1;32m    850\u001b[0m         \u001b[0;31m# Draw the plot\u001b[0m\u001b[0;34m\u001b[0m\u001b[0;34m\u001b[0m\u001b[0;34m\u001b[0m\u001b[0m\n\u001b[0;32m--> 851\u001b[0;31m         \u001b[0mfunc\u001b[0m\u001b[0;34m(\u001b[0m\u001b[0;34m*\u001b[0m\u001b[0mplot_args\u001b[0m\u001b[0;34m,\u001b[0m \u001b[0;34m**\u001b[0m\u001b[0mplot_kwargs\u001b[0m\u001b[0;34m)\u001b[0m\u001b[0;34m\u001b[0m\u001b[0;34m\u001b[0m\u001b[0m\n\u001b[0m\u001b[1;32m    852\u001b[0m \u001b[0;34m\u001b[0m\u001b[0m\n\u001b[1;32m    853\u001b[0m         \u001b[0;31m# Sort out the supporting information\u001b[0m\u001b[0;34m\u001b[0m\u001b[0;34m\u001b[0m\u001b[0;34m\u001b[0m\u001b[0m\n",
      "\u001b[0;32m~/.local/lib/python3.7/site-packages/seaborn/categorical.py\u001b[0m in \u001b[0;36mbarplot\u001b[0;34m(x, y, hue, data, order, hue_order, estimator, ci, n_boot, units, seed, orient, color, palette, saturation, errcolor, errwidth, capsize, dodge, ax, **kwargs)\u001b[0m\n\u001b[1;32m   3148\u001b[0m                           \u001b[0mestimator\u001b[0m\u001b[0;34m,\u001b[0m \u001b[0mci\u001b[0m\u001b[0;34m,\u001b[0m \u001b[0mn_boot\u001b[0m\u001b[0;34m,\u001b[0m \u001b[0munits\u001b[0m\u001b[0;34m,\u001b[0m \u001b[0mseed\u001b[0m\u001b[0;34m,\u001b[0m\u001b[0;34m\u001b[0m\u001b[0;34m\u001b[0m\u001b[0m\n\u001b[1;32m   3149\u001b[0m                           \u001b[0morient\u001b[0m\u001b[0;34m,\u001b[0m \u001b[0mcolor\u001b[0m\u001b[0;34m,\u001b[0m \u001b[0mpalette\u001b[0m\u001b[0;34m,\u001b[0m \u001b[0msaturation\u001b[0m\u001b[0;34m,\u001b[0m\u001b[0;34m\u001b[0m\u001b[0;34m\u001b[0m\u001b[0m\n\u001b[0;32m-> 3150\u001b[0;31m                           errcolor, errwidth, capsize, dodge)\n\u001b[0m\u001b[1;32m   3151\u001b[0m \u001b[0;34m\u001b[0m\u001b[0m\n\u001b[1;32m   3152\u001b[0m     \u001b[0;32mif\u001b[0m \u001b[0max\u001b[0m \u001b[0;32mis\u001b[0m \u001b[0;32mNone\u001b[0m\u001b[0;34m:\u001b[0m\u001b[0;34m\u001b[0m\u001b[0;34m\u001b[0m\u001b[0m\n",
      "\u001b[0;32m~/.local/lib/python3.7/site-packages/seaborn/categorical.py\u001b[0m in \u001b[0;36m__init__\u001b[0;34m(self, x, y, hue, data, order, hue_order, estimator, ci, n_boot, units, seed, orient, color, palette, saturation, errcolor, errwidth, capsize, dodge)\u001b[0m\n\u001b[1;32m   1615\u001b[0m                                  order, hue_order, units)\n\u001b[1;32m   1616\u001b[0m         \u001b[0mself\u001b[0m\u001b[0;34m.\u001b[0m\u001b[0mestablish_colors\u001b[0m\u001b[0;34m(\u001b[0m\u001b[0mcolor\u001b[0m\u001b[0;34m,\u001b[0m \u001b[0mpalette\u001b[0m\u001b[0;34m,\u001b[0m \u001b[0msaturation\u001b[0m\u001b[0;34m)\u001b[0m\u001b[0;34m\u001b[0m\u001b[0;34m\u001b[0m\u001b[0m\n\u001b[0;32m-> 1617\u001b[0;31m         \u001b[0mself\u001b[0m\u001b[0;34m.\u001b[0m\u001b[0mestimate_statistic\u001b[0m\u001b[0;34m(\u001b[0m\u001b[0mestimator\u001b[0m\u001b[0;34m,\u001b[0m \u001b[0mci\u001b[0m\u001b[0;34m,\u001b[0m \u001b[0mn_boot\u001b[0m\u001b[0;34m,\u001b[0m \u001b[0mseed\u001b[0m\u001b[0;34m)\u001b[0m\u001b[0;34m\u001b[0m\u001b[0;34m\u001b[0m\u001b[0m\n\u001b[0m\u001b[1;32m   1618\u001b[0m \u001b[0;34m\u001b[0m\u001b[0m\n\u001b[1;32m   1619\u001b[0m         \u001b[0mself\u001b[0m\u001b[0;34m.\u001b[0m\u001b[0mdodge\u001b[0m \u001b[0;34m=\u001b[0m \u001b[0mdodge\u001b[0m\u001b[0;34m\u001b[0m\u001b[0;34m\u001b[0m\u001b[0m\n",
      "\u001b[0;32m~/.local/lib/python3.7/site-packages/seaborn/categorical.py\u001b[0m in \u001b[0;36mestimate_statistic\u001b[0;34m(self, estimator, ci, n_boot, seed)\u001b[0m\n\u001b[1;32m   1497\u001b[0m                     \u001b[0mstatistic\u001b[0m\u001b[0;34m.\u001b[0m\u001b[0mappend\u001b[0m\u001b[0;34m(\u001b[0m\u001b[0mnp\u001b[0m\u001b[0;34m.\u001b[0m\u001b[0mnan\u001b[0m\u001b[0;34m)\u001b[0m\u001b[0;34m\u001b[0m\u001b[0;34m\u001b[0m\u001b[0m\n\u001b[1;32m   1498\u001b[0m                 \u001b[0;32melse\u001b[0m\u001b[0;34m:\u001b[0m\u001b[0;34m\u001b[0m\u001b[0;34m\u001b[0m\u001b[0m\n\u001b[0;32m-> 1499\u001b[0;31m                     \u001b[0mstatistic\u001b[0m\u001b[0;34m.\u001b[0m\u001b[0mappend\u001b[0m\u001b[0;34m(\u001b[0m\u001b[0mestimator\u001b[0m\u001b[0;34m(\u001b[0m\u001b[0mstat_data\u001b[0m\u001b[0;34m)\u001b[0m\u001b[0;34m)\u001b[0m\u001b[0;34m\u001b[0m\u001b[0;34m\u001b[0m\u001b[0m\n\u001b[0m\u001b[1;32m   1500\u001b[0m \u001b[0;34m\u001b[0m\u001b[0m\n\u001b[1;32m   1501\u001b[0m                 \u001b[0;31m# Get a confidence interval for this estimate\u001b[0m\u001b[0;34m\u001b[0m\u001b[0;34m\u001b[0m\u001b[0;34m\u001b[0m\u001b[0m\n",
      "\u001b[0;32m<__array_function__ internals>\u001b[0m in \u001b[0;36mmean\u001b[0;34m(*args, **kwargs)\u001b[0m\n",
      "\u001b[0;32m/opt/lsst/software/stack/python/miniconda3-4.7.12/envs/lsst-scipipe-984c9f7/lib/python3.7/site-packages/numpy/core/fromnumeric.py\u001b[0m in \u001b[0;36mmean\u001b[0;34m(a, axis, dtype, out, keepdims)\u001b[0m\n\u001b[1;32m   3333\u001b[0m \u001b[0;34m\u001b[0m\u001b[0m\n\u001b[1;32m   3334\u001b[0m     return _methods._mean(a, axis=axis, dtype=dtype,\n\u001b[0;32m-> 3335\u001b[0;31m                           out=out, **kwargs)\n\u001b[0m\u001b[1;32m   3336\u001b[0m \u001b[0;34m\u001b[0m\u001b[0m\n\u001b[1;32m   3337\u001b[0m \u001b[0;34m\u001b[0m\u001b[0m\n",
      "\u001b[0;32m/opt/lsst/software/stack/python/miniconda3-4.7.12/envs/lsst-scipipe-984c9f7/lib/python3.7/site-packages/numpy/core/_methods.py\u001b[0m in \u001b[0;36m_mean\u001b[0;34m(a, axis, dtype, out, keepdims)\u001b[0m\n\u001b[1;32m    149\u001b[0m             \u001b[0mis_float16_result\u001b[0m \u001b[0;34m=\u001b[0m \u001b[0;32mTrue\u001b[0m\u001b[0;34m\u001b[0m\u001b[0;34m\u001b[0m\u001b[0m\n\u001b[1;32m    150\u001b[0m \u001b[0;34m\u001b[0m\u001b[0m\n\u001b[0;32m--> 151\u001b[0;31m     \u001b[0mret\u001b[0m \u001b[0;34m=\u001b[0m \u001b[0mumr_sum\u001b[0m\u001b[0;34m(\u001b[0m\u001b[0marr\u001b[0m\u001b[0;34m,\u001b[0m \u001b[0maxis\u001b[0m\u001b[0;34m,\u001b[0m \u001b[0mdtype\u001b[0m\u001b[0;34m,\u001b[0m \u001b[0mout\u001b[0m\u001b[0;34m,\u001b[0m \u001b[0mkeepdims\u001b[0m\u001b[0;34m)\u001b[0m\u001b[0;34m\u001b[0m\u001b[0;34m\u001b[0m\u001b[0m\n\u001b[0m\u001b[1;32m    152\u001b[0m     \u001b[0;32mif\u001b[0m \u001b[0misinstance\u001b[0m\u001b[0;34m(\u001b[0m\u001b[0mret\u001b[0m\u001b[0;34m,\u001b[0m \u001b[0mmu\u001b[0m\u001b[0;34m.\u001b[0m\u001b[0mndarray\u001b[0m\u001b[0;34m)\u001b[0m\u001b[0;34m:\u001b[0m\u001b[0;34m\u001b[0m\u001b[0;34m\u001b[0m\u001b[0m\n\u001b[1;32m    153\u001b[0m         ret = um.true_divide(\n",
      "\u001b[0;31mTypeError\u001b[0m: cannot perform reduce with flexible type"
     ]
    },
    {
     "data": {
      "image/png": "[encoded data removed]",
      "text/plain": [
       "<Figure size 1440x1080 with 10 Axes>"
      ]
     },
     "metadata": {
      "needs_background": "light"
     },
     "output_type": "display_data"
    }
   ],
   "source": [
    "grid = sns.FacetGrid(flag_pct_byclass.reset_index(), col=\"classification\",  palette=\"tab20c\",\n",
    "                     col_wrap=4, height=5)\n",
    "grid.map(sns.barplot,y=flag_names)"
   ]
  },
  {
   "cell_type": "markdown",
   "metadata": {},
   "source": [
    "Formal requirements are on SNR > 6 (note these are *measured* SNRs not detected which is why this looks weird)"
   ]
  },
  {
   "cell_type": "code",
   "execution_count": 108,
   "metadata": {},
   "outputs": [],
   "source": [
    "diaSources['snr'] = diaSources['apFlux']/diaSources['apFluxErr']"
   ]
  },
  {
   "cell_type": "code",
   "execution_count": 99,
   "metadata": {},
   "outputs": [
    {
     "data": {
      "image/png": "[encoded data removed]",
      "text/plain": [
       "<Figure size 432x288 with 1 Axes>"
      ]
     },
     "metadata": {
      "needs_background": "light"
     },
     "output_type": "display_data"
    }
   ],
   "source": [
    "_=plt.hist(diaSources.snr,bins=np.linspace(0,20,20))"
   ]
  },
  {
   "cell_type": "code",
   "execution_count": 102,
   "metadata": {},
   "outputs": [
    {
     "data": {
      "text/plain": [
       "46"
      ]
     },
     "execution_count": 102,
     "metadata": {},
     "output_type": "execute_result"
    }
   ],
   "source": [
    "wsnrgt6 = diaSources.snr >= 6\n",
    "np.sum(wsnrgt6)"
   ]
  },
  {
   "cell_type": "code",
   "execution_count": 103,
   "metadata": {},
   "outputs": [
    {
     "data": {
      "text/plain": [
       "<matplotlib.axes._subplots.AxesSubplot at 0x7ff303ee7250>"
      ]
     },
     "execution_count": 103,
     "metadata": {},
     "output_type": "execute_result"
    },
    {
     "data": {
      "image/png": "[encoded data removed]",
      "text/plain": [
       "<Figure size 432x288 with 1 Axes>"
      ]
     },
     "metadata": {
      "needs_background": "light"
     },
     "output_type": "display_data"
    }
   ],
   "source": [
    "sns.countplot(data=diaSources.loc[wsnrgt6,:],y='classification')"
   ]
  },
  {
   "cell_type": "markdown",
   "metadata": {},
   "source": [
    "artifact to real ratios:"
   ]
  },
  {
   "cell_type": "code",
   "execution_count": 109,
   "metadata": {},
   "outputs": [
    {
     "data": {
      "text/plain": [
       "4.111111111111111"
      ]
     },
     "execution_count": 109,
     "metadata": {},
     "output_type": "execute_result"
    }
   ],
   "source": [
    "np.sum(wsnrgt6 & ~(diaSources.classification == 'Clean point source')) / \\\n",
    "np.sum(wsnrgt6 & (diaSources.classification == 'Clean point source'))"
   ]
  },
  {
   "cell_type": "code",
   "execution_count": 110,
   "metadata": {},
   "outputs": [
    {
     "data": {
      "text/plain": [
       "4.631578947368421"
      ]
     },
     "execution_count": 110,
     "metadata": {},
     "output_type": "execute_result"
    }
   ],
   "source": [
    "np.sum(~(diaSources.classification == 'Clean point source')) / \\\n",
    "np.sum((diaSources.classification == 'Clean point source'))"
   ]
  },
  {
   "cell_type": "code",
   "execution_count": null,
   "metadata": {},
   "outputs": [],
   "source": []
  }
 ],
 "metadata": {
  "kernelspec": {
   "display_name": "LSST",
   "language": "python",
   "name": "lsst"
  },
  "language_info": {
   "codemirror_mode": {
    "name": "ipython",
    "version": 3
   },
   "file_extension": ".py",
   "mimetype": "text/x-python",
   "name": "python",
   "nbconvert_exporter": "python",
   "pygments_lexer": "ipython3",
   "version": "3.7.6"
  }
 },
 "nbformat": 4,
 "nbformat_minor": 4
}

{
 "cells": [
  {
   "cell_type": "markdown",
   "metadata": {},
   "source": [
    "## Zooniverse Analysis"
   ]
  },
  {
   "cell_type": "code",
   "execution_count": 52,
   "metadata": {},
   "outputs": [],
   "source": [
    "import json\n",
    "import pandas as pd\n",
    "import matplotlib.pyplot as plt\n",
    "import sqlite3\n",
    "import numpy as np\n"
   ]
  },
  {
   "cell_type": "code",
   "execution_count": 2,
   "metadata": {},
   "outputs": [],
   "source": [
    "dfzoo = pd.read_csv('alert-production-zoo-classifications.csv')"
   ]
  },
  {
   "cell_type": "code",
   "execution_count": 4,
   "metadata": {},
   "outputs": [
    {
     "data": {
      "text/html": [
       "<div>\n",
       "<style scoped>\n",
       "    .dataframe tbody tr th:only-of-type {\n",
       "        vertical-align: middle;\n",
       "    }\n",
       "\n",
       "    .dataframe tbody tr th {\n",
       "        vertical-align: top;\n",
       "    }\n",
       "\n",
       "    .dataframe thead th {\n",
       "        text-align: right;\n",
       "    }\n",
       "</style>\n",
       "<table border=\"1\" class=\"dataframe\">\n",
       "  <thead>\n",
       "    <tr style=\"text-align: right;\">\n",
       "      <th></th>\n",
       "      <th>classification_id</th>\n",
       "      <th>user_name</th>\n",
       "      <th>user_id</th>\n",
       "      <th>user_ip</th>\n",
       "      <th>workflow_id</th>\n",
       "      <th>workflow_name</th>\n",
       "      <th>workflow_version</th>\n",
       "      <th>created_at</th>\n",
       "      <th>gold_standard</th>\n",
       "      <th>expert</th>\n",
       "      <th>metadata</th>\n",
       "      <th>annotations</th>\n",
       "      <th>subject_data</th>\n",
       "      <th>subject_ids</th>\n",
       "    </tr>\n",
       "  </thead>\n",
       "  <tbody>\n",
       "    <tr>\n",
       "      <th>0</th>\n",
       "      <td>207552876</td>\n",
       "      <td>ebellm</td>\n",
       "      <td>1649740.0</td>\n",
       "      <td>bcb090b573bb93a473ab</td>\n",
       "      <td>13338</td>\n",
       "      <td>Scan cutouts</td>\n",
       "      <td>14.25</td>\n",
       "      <td>2020-03-07 01:13:05 UTC</td>\n",
       "      <td>NaN</td>\n",
       "      <td>NaN</td>\n",
       "      <td>{\"source\":\"api\",\"session\":\"ef4df560cf0cb8504df...</td>\n",
       "      <td>[{\"task\":\"T0\",\"task_label\":\"How would you desc...</td>\n",
       "      <td>{\"40938231\":{\"retired\":null,\"diaSourceId\":1764...</td>\n",
       "      <td>40938231</td>\n",
       "    </tr>\n",
       "    <tr>\n",
       "      <th>1</th>\n",
       "      <td>207552908</td>\n",
       "      <td>ebellm</td>\n",
       "      <td>1649740.0</td>\n",
       "      <td>bcb090b573bb93a473ab</td>\n",
       "      <td>13338</td>\n",
       "      <td>Scan cutouts</td>\n",
       "      <td>14.25</td>\n",
       "      <td>2020-03-07 01:13:13 UTC</td>\n",
       "      <td>NaN</td>\n",
       "      <td>NaN</td>\n",
       "      <td>{\"source\":\"api\",\"session\":\"ef4df560cf0cb8504df...</td>\n",
       "      <td>[{\"task\":\"T0\",\"task_label\":\"How would you desc...</td>\n",
       "      <td>{\"40938233\":{\"retired\":null,\"diaSourceId\":1764...</td>\n",
       "      <td>40938233</td>\n",
       "    </tr>\n",
       "    <tr>\n",
       "      <th>2</th>\n",
       "      <td>207553020</td>\n",
       "      <td>ebellm</td>\n",
       "      <td>1649740.0</td>\n",
       "      <td>bcb090b573bb93a473ab</td>\n",
       "      <td>13338</td>\n",
       "      <td>Scan cutouts</td>\n",
       "      <td>14.25</td>\n",
       "      <td>2020-03-07 01:13:44 UTC</td>\n",
       "      <td>NaN</td>\n",
       "      <td>NaN</td>\n",
       "      <td>{\"source\":\"api\",\"session\":\"ef4df560cf0cb8504df...</td>\n",
       "      <td>[{\"task\":\"T0\",\"task_label\":\"How would you desc...</td>\n",
       "      <td>{\"40938229\":{\"retired\":null,\"diaSourceId\":1764...</td>\n",
       "      <td>40938229</td>\n",
       "    </tr>\n",
       "    <tr>\n",
       "      <th>3</th>\n",
       "      <td>207553077</td>\n",
       "      <td>ebellm</td>\n",
       "      <td>1649740.0</td>\n",
       "      <td>bcb090b573bb93a473ab</td>\n",
       "      <td>13338</td>\n",
       "      <td>Scan cutouts</td>\n",
       "      <td>14.25</td>\n",
       "      <td>2020-03-07 01:14:00 UTC</td>\n",
       "      <td>NaN</td>\n",
       "      <td>NaN</td>\n",
       "      <td>{\"source\":\"api\",\"session\":\"ef4df560cf0cb8504df...</td>\n",
       "      <td>[{\"task\":\"T0\",\"task_label\":\"How would you desc...</td>\n",
       "      <td>{\"40938219\":{\"retired\":null,\"diaSourceId\":1764...</td>\n",
       "      <td>40938219</td>\n",
       "    </tr>\n",
       "    <tr>\n",
       "      <th>4</th>\n",
       "      <td>207553107</td>\n",
       "      <td>ebellm</td>\n",
       "      <td>1649740.0</td>\n",
       "      <td>bcb090b573bb93a473ab</td>\n",
       "      <td>13338</td>\n",
       "      <td>Scan cutouts</td>\n",
       "      <td>14.25</td>\n",
       "      <td>2020-03-07 01:14:09 UTC</td>\n",
       "      <td>NaN</td>\n",
       "      <td>NaN</td>\n",
       "      <td>{\"source\":\"api\",\"session\":\"ef4df560cf0cb8504df...</td>\n",
       "      <td>[{\"task\":\"T0\",\"task_label\":\"How would you desc...</td>\n",
       "      <td>{\"40938221\":{\"retired\":null,\"diaSourceId\":1764...</td>\n",
       "      <td>40938221</td>\n",
       "    </tr>\n",
       "  </tbody>\n",
       "</table>\n",
       "</div>"
      ],
      "text/plain": [
       "   classification_id user_name    user_id               user_ip  workflow_id  \\\n",
       "0          207552876    ebellm  1649740.0  bcb090b573bb93a473ab        13338   \n",
       "1          207552908    ebellm  1649740.0  bcb090b573bb93a473ab        13338   \n",
       "2          207553020    ebellm  1649740.0  bcb090b573bb93a473ab        13338   \n",
       "3          207553077    ebellm  1649740.0  bcb090b573bb93a473ab        13338   \n",
       "4          207553107    ebellm  1649740.0  bcb090b573bb93a473ab        13338   \n",
       "\n",
       "  workflow_name  workflow_version               created_at gold_standard  \\\n",
       "0  Scan cutouts             14.25  2020-03-07 01:13:05 UTC           NaN   \n",
       "1  Scan cutouts             14.25  2020-03-07 01:13:13 UTC           NaN   \n",
       "2  Scan cutouts             14.25  2020-03-07 01:13:44 UTC           NaN   \n",
       "3  Scan cutouts             14.25  2020-03-07 01:14:00 UTC           NaN   \n",
       "4  Scan cutouts             14.25  2020-03-07 01:14:09 UTC           NaN   \n",
       "\n",
       "  expert                                           metadata  \\\n",
       "0    NaN  {\"source\":\"api\",\"session\":\"ef4df560cf0cb8504df...   \n",
       "1    NaN  {\"source\":\"api\",\"session\":\"ef4df560cf0cb8504df...   \n",
       "2    NaN  {\"source\":\"api\",\"session\":\"ef4df560cf0cb8504df...   \n",
       "3    NaN  {\"source\":\"api\",\"session\":\"ef4df560cf0cb8504df...   \n",
       "4    NaN  {\"source\":\"api\",\"session\":\"ef4df560cf0cb8504df...   \n",
       "\n",
       "                                         annotations  \\\n",
       "0  [{\"task\":\"T0\",\"task_label\":\"How would you desc...   \n",
       "1  [{\"task\":\"T0\",\"task_label\":\"How would you desc...   \n",
       "2  [{\"task\":\"T0\",\"task_label\":\"How would you desc...   \n",
       "3  [{\"task\":\"T0\",\"task_label\":\"How would you desc...   \n",
       "4  [{\"task\":\"T0\",\"task_label\":\"How would you desc...   \n",
       "\n",
       "                                        subject_data  subject_ids  \n",
       "0  {\"40938231\":{\"retired\":null,\"diaSourceId\":1764...     40938231  \n",
       "1  {\"40938233\":{\"retired\":null,\"diaSourceId\":1764...     40938233  \n",
       "2  {\"40938229\":{\"retired\":null,\"diaSourceId\":1764...     40938229  \n",
       "3  {\"40938219\":{\"retired\":null,\"diaSourceId\":1764...     40938219  \n",
       "4  {\"40938221\":{\"retired\":null,\"diaSourceId\":1764...     40938221  "
      ]
     },
     "execution_count": 4,
     "metadata": {},
     "output_type": "execute_result"
    }
   ],
   "source": [
    "dfzoo.head()"
   ]
  },
  {
   "cell_type": "code",
   "execution_count": 49,
   "metadata": {},
   "outputs": [],
   "source": [
    "def get_classification(df):\n",
    "    return dfzoo['annotations'].apply(json.loads).apply(lambda x: x[0]['value'])\n",
    "\n",
    "def get_text_comment(df):\n",
    "    return dfzoo['annotations'].apply(json.loads).apply(lambda x: x[1]['value'] if (x[0]['value'] == 'Other') else None)\n",
    "\n",
    "def get_diaSourceId(df):\n",
    "    return dfzoo['subject_data'].apply(json.loads).apply(lambda x: list(x.values())[0]['diaSourceId'])"
   ]
  },
  {
   "cell_type": "code",
   "execution_count": 50,
   "metadata": {},
   "outputs": [],
   "source": [
    "dfzoo['classification'] = get_classification(dfzoo)\n",
    "dfzoo['comment'] = get_text_comment(dfzoo)\n",
    "dfzoo['diaSourceId'] = get_diaSourceId(dfzoo)"
   ]
  },
  {
   "cell_type": "markdown",
   "metadata": {},
   "source": [
    "Foolishly we mixed HSC and DECam data, and for some reason it doesn't seem like the subject sets are made distinct.  I think I should have used some additional keys, not just the diaSourceID.\n",
    "\n",
    "Thankfully there's no overlap in"
   ]
  },
  {
   "cell_type": "code",
   "execution_count": 61,
   "metadata": {},
   "outputs": [],
   "source": [
    "REPO = '/project/mrawls/hits2015/rerun/decorr_2020_03'\n",
    "connection = sqlite3.connect(f'{REPO}/association.db')\n",
    "diaSources = pd.read_sql_query('select diaSourceId from DiaSource', connection)"
   ]
  },
  {
   "cell_type": "code",
   "execution_count": 55,
   "metadata": {},
   "outputs": [],
   "source": [
    "REPO = '/project/mrawls/cosmos/rerun/ap_pipe-g-1'\n",
    "connection = sqlite3.connect(f'{REPO}/association.db')\n",
    "hscDiaSources = pd.read_sql_query('select * from DiaSource', connection)\n",
    "np.intersect1d(diaSources.diaSourceId.values,hscDiaSources.diaSourceId.values)"
   ]
  },
  {
   "cell_type": "code",
   "execution_count": 56,
   "metadata": {},
   "outputs": [],
   "source": []
  },
  {
   "cell_type": "code",
   "execution_count": 60,
   "metadata": {},
   "outputs": [
    {
     "data": {
      "text/plain": [
       "array([], dtype=int64)"
      ]
     },
     "execution_count": 60,
     "metadata": {},
     "output_type": "execute_result"
    }
   ],
   "source": []
  },
  {
   "cell_type": "code",
   "execution_count": null,
   "metadata": {},
   "outputs": [],
   "source": []
  }
 ],
 "metadata": {
  "kernelspec": {
   "display_name": "LSST",
   "language": "python",
   "name": "lsst"
  },
  "language_info": {
   "codemirror_mode": {
    "name": "ipython",
    "version": 3
   },
   "file_extension": ".py",
   "mimetype": "text/x-python",
   "name": "python",
   "nbconvert_exporter": "python",
   "pygments_lexer": "ipython3",
   "version": "3.7.6"
  }
 },
 "nbformat": 4,
 "nbformat_minor": 4
}

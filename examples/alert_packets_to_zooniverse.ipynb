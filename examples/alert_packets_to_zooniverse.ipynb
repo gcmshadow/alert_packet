{
 "cells": [
  {
   "cell_type": "code",
   "execution_count": 7,
   "metadata": {},
   "outputs": [],
   "source": [
    "import os\n",
    "import numpy as np\n",
    "from io import BytesIO\n",
    "import tempfile\n",
    "\n",
    "#%matplotlib notebook\n",
    "import matplotlib.pyplot as plt\n",
    "import pandas as pd\n",
    "import sqlite3\n",
    "import lsst.daf.persistence as dafPersist\n",
    "import lsst.afw.display as afwDisplay\n",
    "import lsst.afw.image as afwImage\n",
    "import lsst.geom\n",
    "import lsst.alert.packet\n",
    "afwDisplay.setDefaultBackend('matplotlib')\n",
    "import matplotlib.ticker as plticker\n",
    "from astropy.visualization import (ZScaleInterval, SqrtStretch, ImageNormalize)"
   ]
  },
  {
   "cell_type": "code",
   "execution_count": 3,
   "metadata": {},
   "outputs": [],
   "source": [
    "schema = lsst.alert.packet.Schema.from_file('/project/ebellm/sample-avro-alert/schema/2/1/lsst.alert.avsc')"
   ]
  },
  {
   "cell_type": "code",
   "execution_count": 4,
   "metadata": {},
   "outputs": [],
   "source": [
    "with open('hits_alert_packets/test.avro','rb') as f:\n",
    "    writer_schema, data = schema.retrieve_alerts(f)"
   ]
  },
  {
   "cell_type": "code",
   "execution_count": 6,
   "metadata": {},
   "outputs": [
    {
     "data": {
      "text/plain": [
       "30"
      ]
     },
     "execution_count": 6,
     "metadata": {},
     "output_type": "execute_result"
    }
   ],
   "source": [
    "len(data)"
   ]
  },
  {
   "cell_type": "code",
   "execution_count": 8,
   "metadata": {},
   "outputs": [],
   "source": []
  },
  {
   "cell_type": "code",
   "execution_count": 10,
   "metadata": {},
   "outputs": [
    {
     "name": "stderr",
     "output_type": "stream",
     "text": [
      "/opt/lsst/software/stack/python/miniconda3-4.7.12/envs/lsst-scipipe-984c9f7/lib/python3.7/site-packages/ipykernel/__main__.py:1: Warning: Failed to translate C++ Exception to Python.\n",
      "  if __name__ == '__main__':\n"
     ]
    },
    {
     "ename": "SystemError",
     "evalue": "<built-in method __init__ of PyCapsule object at 0x7f33f62f2d20> returned NULL without setting an error",
     "output_type": "error",
     "traceback": [
      "\u001b[0;31m---------------------------------------------------------------------------\u001b[0m",
      "\u001b[0;31mSystemError\u001b[0m                               Traceback (most recent call last)",
      "\u001b[0;32m<ipython-input-10-f517f701778f>\u001b[0m in \u001b[0;36m<module>\u001b[0;34m\u001b[0m\n\u001b[0;32m----> 1\u001b[0;31m \u001b[0mafwImage\u001b[0m\u001b[0;34m.\u001b[0m\u001b[0mExposureF\u001b[0m\u001b[0;34m(\u001b[0m\u001b[0mcutout\u001b[0m\u001b[0;34m)\u001b[0m\u001b[0;34m\u001b[0m\u001b[0;34m\u001b[0m\u001b[0m\n\u001b[0m",
      "\u001b[0;31mSystemError\u001b[0m: <built-in method __init__ of PyCapsule object at 0x7f33f62f2d20> returned NULL without setting an error"
     ]
    }
   ],
   "source": [
    "afwImage.ExposureF(cutout)"
   ]
  },
  {
   "cell_type": "code",
   "execution_count": 73,
   "metadata": {},
   "outputs": [],
   "source": [
    "def make_cutout_images(alert):\n",
    "    # writeFits seems to want filenames, not file pointers\n",
    "    temp = tempfile.NamedTemporaryFile()\n",
    "    diffCutout = alert['cutoutDifference']['stampData']\n",
    "    with open(temp.name,'wb') as f:\n",
    "        f.write(diffCutout)\n",
    "    \n",
    "    diffExposure = afwImage.ExposureF(temp.name)\n",
    "    \n",
    "    fig = plt.figure()                                     \n",
    "    afw_display = afwDisplay.Display()               \n",
    "    afw_display.scale('asinh', 'zscale')            \n",
    "    #afw_display.setMaskTransparency(90)  \n",
    "    afw_display.setMaskTransparency(100)  \n",
    "    afw_display.setMaskPlaneColor('DETECTED','blue') \n",
    "    afw_display.mtv(diffExposure)                          \n",
    "    plt.savefig(f\"hits_alert_stamp_images/{alert['diaSource']['diaSourceId']}_diff.png\")\n",
    "    #plt.show() \n",
    "    plt.close(fig)\n",
    "\n",
    "    \n",
    "    #return diffExposure"
   ]
  },
  {
   "cell_type": "code",
   "execution_count": 80,
   "metadata": {},
   "outputs": [
    {
     "data": {
      "text/plain": [
       "<lsst.afw.image.exposure.exposure.ExposureF at 0x7f33cf4bc6f0>"
      ]
     },
     "execution_count": 80,
     "metadata": {},
     "output_type": "execute_result"
    }
   ],
   "source": [
    "import lsst.afw.fits as afwFits\n",
    "mm = afwFits.MemFileManager(len(alert['cutoutDifference']['stampData']))\n",
    "mm.setData(alert['cutoutDifference']['stampData'],len(alert['cutoutDifference']['stampData']))\n",
    "afwImage.ExposureF(mm)"
   ]
  },
  {
   "cell_type": "code",
   "execution_count": 74,
   "metadata": {},
   "outputs": [
    {
     "data": {
      "image/png": "[encoded data removed]",
      "text/plain": [
       "<Figure size 432x288 with 2 Axes>"
      ]
     },
     "metadata": {
      "needs_background": "light"
     },
     "output_type": "display_data"
    }
   ],
   "source": [
    "make_cutout_images(data[4])"
   ]
  },
  {
   "cell_type": "code",
   "execution_count": 70,
   "metadata": {},
   "outputs": [
    {
     "data": {
      "image/png": "[encoded data removed]",
      "text/plain": [
       "<Figure size 432x288 with 2 Axes>"
      ]
     },
     "metadata": {
      "needs_background": "light"
     },
     "output_type": "display_data"
    }
   ],
   "source": [
    "for alert in data:\n",
    "    make_cutout_images(alert)"
   ]
  },
  {
   "cell_type": "code",
   "execution_count": null,
   "metadata": {},
   "outputs": [],
   "source": []
  }
 ],
 "metadata": {
  "kernelspec": {
   "display_name": "LSST",
   "language": "python",
   "name": "lsst"
  },
  "language_info": {
   "codemirror_mode": {
    "name": "ipython",
    "version": 3
   },
   "file_extension": ".py",
   "mimetype": "text/x-python",
   "name": "python",
   "nbconvert_exporter": "python",
   "pygments_lexer": "ipython3",
   "version": "3.7.6"
  }
 },
 "nbformat": 4,
 "nbformat_minor": 4
}

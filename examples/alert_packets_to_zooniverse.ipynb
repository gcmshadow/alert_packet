{
 "cells": [
  {
   "cell_type": "code",
   "execution_count": 9,
   "metadata": {},
   "outputs": [],
   "source": [
    "import os\n",
    "import numpy as np\n",
    "from io import BytesIO\n",
    "import tempfile\n",
    "\n",
    "#%matplotlib notebook\n",
    "import matplotlib.pyplot as plt\n",
    "import pandas as pd\n",
    "import sqlite3\n",
    "import lsst.daf.persistence as dafPersist\n",
    "import lsst.afw.display as afwDisplay\n",
    "import lsst.afw.image as afwImage\n",
    "import lsst.afw.fits as afwFits\n",
    "import lsst.geom\n",
    "import lsst.alert.packet\n",
    "afwDisplay.setDefaultBackend('matplotlib')\n",
    "import matplotlib.ticker as plticker\n",
    "from astropy.visualization import (ZScaleInterval, SqrtStretch, ImageNormalize)\n",
    "from astropy.utils.console import ProgressBar"
   ]
  },
  {
   "cell_type": "code",
   "execution_count": 2,
   "metadata": {},
   "outputs": [],
   "source": [
    "schema = lsst.alert.packet.Schema.from_file('/project/ebellm/sample-avro-alert/schema/2/1/lsst.alert.avsc')"
   ]
  },
  {
   "cell_type": "code",
   "execution_count": 13,
   "metadata": {},
   "outputs": [],
   "source": [
    "indir = 'hsc-cosmos_alert_packets'\n",
    "outdir = 'hsc-cosmos_stamp_images'"
   ]
  },
  {
   "cell_type": "code",
   "execution_count": 14,
   "metadata": {},
   "outputs": [],
   "source": [
    "with open(f'{indir}/test.avro','rb') as f:\n",
    "    writer_schema, data = schema.retrieve_alerts(f)"
   ]
  },
  {
   "cell_type": "code",
   "execution_count": 15,
   "metadata": {},
   "outputs": [
    {
     "data": {
      "text/plain": [
       "1000"
      ]
     },
     "execution_count": 15,
     "metadata": {},
     "output_type": "execute_result"
    }
   ],
   "source": [
    "len(data)"
   ]
  },
  {
   "cell_type": "code",
   "execution_count": 18,
   "metadata": {},
   "outputs": [],
   "source": [
    "def make_cutout_images(alert, outdir):\n",
    "    # writeFits seems to want filenames, not file pointers\n",
    "    temp = tempfile.NamedTemporaryFile()\n",
    "    diffCutout = alert['cutoutDifference']['stampData']\n",
    "    #with open(temp.name,'wb') as f:\n",
    "    #    f.write(diffCutout)\n",
    "    #diffExposure = afwImage.ExposureF(temp.name)\n",
    "\n",
    "    mm = afwFits.MemFileManager(len(alert['cutoutDifference']['stampData']))\n",
    "    mm.setData(alert['cutoutDifference']['stampData'],len(alert['cutoutDifference']['stampData']))\n",
    "    diffExposure = afwImage.ExposureF(mm)\n",
    "    \n",
    "    \n",
    "    fig = plt.figure()                                     \n",
    "    afw_display = afwDisplay.Display()               \n",
    "    afw_display.scale('linear', 'zscale')            \n",
    "    #afw_display.setMaskTransparency(90)  \n",
    "    afw_display.setMaskTransparency(100)  \n",
    "    afw_display.setMaskPlaneColor('DETECTED','blue') \n",
    "    afw_display.mtv(diffExposure)                          \n",
    "    plt.savefig(f\"{outdir}/{alert['diaSource']['diaSourceId']}_diff.png\")\n",
    "    #plt.show() \n",
    "    plt.close(fig)\n",
    "\n",
    "    \n",
    "    #return diffExposure"
   ]
  },
  {
   "cell_type": "code",
   "execution_count": 6,
   "metadata": {},
   "outputs": [],
   "source": [
    "#make_cutout_images(data[4])"
   ]
  },
  {
   "cell_type": "code",
   "execution_count": 7,
   "metadata": {},
   "outputs": [],
   "source": [
    "#!rm -f hits_alert_stamp_images/*"
   ]
  },
  {
   "cell_type": "code",
   "execution_count": 19,
   "metadata": {},
   "outputs": [
    {
     "data": {
      "application/vnd.jupyter.widget-view+json": {
       "model_id": "92e6a162afb549bbbcc653a854ee90e0",
       "version_major": 2,
       "version_minor": 0
      },
      "text/plain": [
       "FloatProgress(value=0.0)"
      ]
     },
     "metadata": {},
     "output_type": "display_data"
    },
    {
     "name": "stdout",
     "output_type": "stream",
     "text": [
      "\n"
     ]
    },
    {
     "data": {
      "image/png": "[encoded data removed]",
      "text/plain": [
       "<Figure size 432x288 with 2 Axes>"
      ]
     },
     "metadata": {
      "needs_background": "light"
     },
     "output_type": "display_data"
    }
   ],
   "source": [
    "with ProgressBar(len(data), ipython_widget=True) as bar:\n",
    "    for alert in data:\n",
    "        make_cutout_images(alert, outdir)\n",
    "        bar.update()"
   ]
  },
  {
   "cell_type": "code",
   "execution_count": null,
   "metadata": {},
   "outputs": [],
   "source": []
  }
 ],
 "metadata": {
  "kernelspec": {
   "display_name": "LSST",
   "language": "python",
   "name": "lsst"
  },
  "language_info": {
   "codemirror_mode": {
    "name": "ipython",
    "version": 3
   },
   "file_extension": ".py",
   "mimetype": "text/x-python",
   "name": "python",
   "nbconvert_exporter": "python",
   "pygments_lexer": "ipython3",
   "version": "3.7.6"
  }
 },
 "nbformat": 4,
 "nbformat_minor": 4
}
